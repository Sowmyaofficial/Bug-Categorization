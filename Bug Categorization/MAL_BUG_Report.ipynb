{
  "nbformat": 4,
  "nbformat_minor": 0,
  "metadata": {
    "colab": {
      "provenance": [],
      "collapsed_sections": []
    },
    "kernelspec": {
      "name": "python3",
      "display_name": "Python 3"
    },
    "language_info": {
      "name": "python"
    }
  },
  "cells": [
    {
      "cell_type": "code",
      "execution_count": null,
      "metadata": {
        "id": "dsaZrA0vCv6b"
      },
      "outputs": [],
      "source": [
        "import pandas as pd\n",
        "import numpy as np\n",
        "\n",
        "import matplotlib.pyplot as plt\n",
        "import seaborn as sns\n",
        "\n",
        "import re"
      ]
    },
    {
      "cell_type": "markdown",
      "source": [
        "**reading csv file with specific columns**"
      ],
      "metadata": {
        "id": "Nl_RYi0lEq0V"
      }
    },
    {
      "cell_type": "code",
      "source": [
        "data = pd.read_csv(\"/content/JIRA (2).csv\",usecols = ['Summary','Issue Type','Status','Assignee','Priority','Created','Description','Comment'])"
      ],
      "metadata": {
        "id": "MnjYHFEuC8JL"
      },
      "execution_count": null,
      "outputs": []
    },
    {
      "cell_type": "markdown",
      "source": [
        "**checking the shape of dataset**"
      ],
      "metadata": {
        "id": "ZdqxPFLyEn0n"
      }
    },
    {
      "cell_type": "code",
      "source": [
        "data.shape"
      ],
      "metadata": {
        "colab": {
          "base_uri": "https://localhost:8080/"
        },
        "id": "xVXsr4_GEWSc",
        "outputId": "4f41d03e-24a7-4733-a553-a4f9c99d3f78"
      },
      "execution_count": null,
      "outputs": [
        {
          "output_type": "execute_result",
          "data": {
            "text/plain": [
              "(1000, 8)"
            ]
          },
          "metadata": {},
          "execution_count": 4
        }
      ]
    },
    {
      "cell_type": "markdown",
      "source": [
        "**reading first five records in csv file**"
      ],
      "metadata": {
        "id": "jJUzB3O6EvFW"
      }
    },
    {
      "cell_type": "code",
      "source": [
        "data.head()"
      ],
      "metadata": {
        "colab": {
          "base_uri": "https://localhost:8080/",
          "height": 389
        },
        "id": "HU6xFG-VEWU6",
        "outputId": "0f3f1fe6-d711-4d7f-be2c-bc2e49481810"
      },
      "execution_count": null,
      "outputs": [
        {
          "output_type": "execute_result",
          "data": {
            "text/plain": [
              "                                             Summary Issue Type       Status  \\\n",
              "0  LSU FV: Store cross cache misaligned with 2nd ...        Bug         Open   \n",
              "1  [TGV] Assertion Failure: ROB Retire Hang aroun...        Bug  In Progress   \n",
              "2         [HB] LSU: investigate freeing LSIssQ early       Task         Open   \n",
              "3  [HB] LSU: check all issue queue replay/wakeup ...       Task         Open   \n",
              "4  Investigate Power differences between P650 PRF...       Task  In Progress   \n",
              "\n",
              "  Priority        Assignee          Created  \\\n",
              "0   Medium    John Ingalls  9/27/2022 20:41   \n",
              "1   Medium  Nicolas Brunie   9/27/2022 8:07   \n",
              "2   Medium    Lucas Garcia   9/27/2022 7:45   \n",
              "3   Medium    Lucas Garcia   9/27/2022 7:37   \n",
              "4   Medium   Julian Bailey   9/27/2022 6:19   \n",
              "\n",
              "                                         Description  \\\n",
              "0  Hi John, \\n\\nI am observing a fail for followi...   \n",
              "1  *Debug info* \\nwhile tracing back we find that...   \n",
              "2  LSIssQ entries are kept alive until we are sur...   \n",
              "3  Some replay are with wakeup and some replay im...   \n",
              "4  From the Healdsburg Power Discussions, run the...   \n",
              "\n",
              "                                             Comment  \n",
              "0                                                NaN  \n",
              "1  27/Sep/22 8:23 AM;6065017e90e3950069cf01c5;Whi...  \n",
              "2                                                NaN  \n",
              "3                                                NaN  \n",
              "4  27/Sep/22 9:33 AM;629ab2a89bc7150068d00cdf;Add...  "
            ],
            "text/html": [
              "\n",
              "  <div id=\"df-35fab546-65d7-4cfb-a6f9-12b455c8805c\">\n",
              "    <div class=\"colab-df-container\">\n",
              "      <div>\n",
              "<style scoped>\n",
              "    .dataframe tbody tr th:only-of-type {\n",
              "        vertical-align: middle;\n",
              "    }\n",
              "\n",
              "    .dataframe tbody tr th {\n",
              "        vertical-align: top;\n",
              "    }\n",
              "\n",
              "    .dataframe thead th {\n",
              "        text-align: right;\n",
              "    }\n",
              "</style>\n",
              "<table border=\"1\" class=\"dataframe\">\n",
              "  <thead>\n",
              "    <tr style=\"text-align: right;\">\n",
              "      <th></th>\n",
              "      <th>Summary</th>\n",
              "      <th>Issue Type</th>\n",
              "      <th>Status</th>\n",
              "      <th>Priority</th>\n",
              "      <th>Assignee</th>\n",
              "      <th>Created</th>\n",
              "      <th>Description</th>\n",
              "      <th>Comment</th>\n",
              "    </tr>\n",
              "  </thead>\n",
              "  <tbody>\n",
              "    <tr>\n",
              "      <th>0</th>\n",
              "      <td>LSU FV: Store cross cache misaligned with 2nd ...</td>\n",
              "      <td>Bug</td>\n",
              "      <td>Open</td>\n",
              "      <td>Medium</td>\n",
              "      <td>John Ingalls</td>\n",
              "      <td>9/27/2022 20:41</td>\n",
              "      <td>Hi John, \\n\\nI am observing a fail for followi...</td>\n",
              "      <td>NaN</td>\n",
              "    </tr>\n",
              "    <tr>\n",
              "      <th>1</th>\n",
              "      <td>[TGV] Assertion Failure: ROB Retire Hang aroun...</td>\n",
              "      <td>Bug</td>\n",
              "      <td>In Progress</td>\n",
              "      <td>Medium</td>\n",
              "      <td>Nicolas Brunie</td>\n",
              "      <td>9/27/2022 8:07</td>\n",
              "      <td>*Debug info* \\nwhile tracing back we find that...</td>\n",
              "      <td>27/Sep/22 8:23 AM;6065017e90e3950069cf01c5;Whi...</td>\n",
              "    </tr>\n",
              "    <tr>\n",
              "      <th>2</th>\n",
              "      <td>[HB] LSU: investigate freeing LSIssQ early</td>\n",
              "      <td>Task</td>\n",
              "      <td>Open</td>\n",
              "      <td>Medium</td>\n",
              "      <td>Lucas Garcia</td>\n",
              "      <td>9/27/2022 7:45</td>\n",
              "      <td>LSIssQ entries are kept alive until we are sur...</td>\n",
              "      <td>NaN</td>\n",
              "    </tr>\n",
              "    <tr>\n",
              "      <th>3</th>\n",
              "      <td>[HB] LSU: check all issue queue replay/wakeup ...</td>\n",
              "      <td>Task</td>\n",
              "      <td>Open</td>\n",
              "      <td>Medium</td>\n",
              "      <td>Lucas Garcia</td>\n",
              "      <td>9/27/2022 7:37</td>\n",
              "      <td>Some replay are with wakeup and some replay im...</td>\n",
              "      <td>NaN</td>\n",
              "    </tr>\n",
              "    <tr>\n",
              "      <th>4</th>\n",
              "      <td>Investigate Power differences between P650 PRF...</td>\n",
              "      <td>Task</td>\n",
              "      <td>In Progress</td>\n",
              "      <td>Medium</td>\n",
              "      <td>Julian Bailey</td>\n",
              "      <td>9/27/2022 6:19</td>\n",
              "      <td>From the Healdsburg Power Discussions, run the...</td>\n",
              "      <td>27/Sep/22 9:33 AM;629ab2a89bc7150068d00cdf;Add...</td>\n",
              "    </tr>\n",
              "  </tbody>\n",
              "</table>\n",
              "</div>\n",
              "      <button class=\"colab-df-convert\" onclick=\"convertToInteractive('df-35fab546-65d7-4cfb-a6f9-12b455c8805c')\"\n",
              "              title=\"Convert this dataframe to an interactive table.\"\n",
              "              style=\"display:none;\">\n",
              "        \n",
              "  <svg xmlns=\"http://www.w3.org/2000/svg\" height=\"24px\"viewBox=\"0 0 24 24\"\n",
              "       width=\"24px\">\n",
              "    <path d=\"M0 0h24v24H0V0z\" fill=\"none\"/>\n",
              "    <path d=\"M18.56 5.44l.94 2.06.94-2.06 2.06-.94-2.06-.94-.94-2.06-.94 2.06-2.06.94zm-11 1L8.5 8.5l.94-2.06 2.06-.94-2.06-.94L8.5 2.5l-.94 2.06-2.06.94zm10 10l.94 2.06.94-2.06 2.06-.94-2.06-.94-.94-2.06-.94 2.06-2.06.94z\"/><path d=\"M17.41 7.96l-1.37-1.37c-.4-.4-.92-.59-1.43-.59-.52 0-1.04.2-1.43.59L10.3 9.45l-7.72 7.72c-.78.78-.78 2.05 0 2.83L4 21.41c.39.39.9.59 1.41.59.51 0 1.02-.2 1.41-.59l7.78-7.78 2.81-2.81c.8-.78.8-2.07 0-2.86zM5.41 20L4 18.59l7.72-7.72 1.47 1.35L5.41 20z\"/>\n",
              "  </svg>\n",
              "      </button>\n",
              "      \n",
              "  <style>\n",
              "    .colab-df-container {\n",
              "      display:flex;\n",
              "      flex-wrap:wrap;\n",
              "      gap: 12px;\n",
              "    }\n",
              "\n",
              "    .colab-df-convert {\n",
              "      background-color: #E8F0FE;\n",
              "      border: none;\n",
              "      border-radius: 50%;\n",
              "      cursor: pointer;\n",
              "      display: none;\n",
              "      fill: #1967D2;\n",
              "      height: 32px;\n",
              "      padding: 0 0 0 0;\n",
              "      width: 32px;\n",
              "    }\n",
              "\n",
              "    .colab-df-convert:hover {\n",
              "      background-color: #E2EBFA;\n",
              "      box-shadow: 0px 1px 2px rgba(60, 64, 67, 0.3), 0px 1px 3px 1px rgba(60, 64, 67, 0.15);\n",
              "      fill: #174EA6;\n",
              "    }\n",
              "\n",
              "    [theme=dark] .colab-df-convert {\n",
              "      background-color: #3B4455;\n",
              "      fill: #D2E3FC;\n",
              "    }\n",
              "\n",
              "    [theme=dark] .colab-df-convert:hover {\n",
              "      background-color: #434B5C;\n",
              "      box-shadow: 0px 1px 3px 1px rgba(0, 0, 0, 0.15);\n",
              "      filter: drop-shadow(0px 1px 2px rgba(0, 0, 0, 0.3));\n",
              "      fill: #FFFFFF;\n",
              "    }\n",
              "  </style>\n",
              "\n",
              "      <script>\n",
              "        const buttonEl =\n",
              "          document.querySelector('#df-35fab546-65d7-4cfb-a6f9-12b455c8805c button.colab-df-convert');\n",
              "        buttonEl.style.display =\n",
              "          google.colab.kernel.accessAllowed ? 'block' : 'none';\n",
              "\n",
              "        async function convertToInteractive(key) {\n",
              "          const element = document.querySelector('#df-35fab546-65d7-4cfb-a6f9-12b455c8805c');\n",
              "          const dataTable =\n",
              "            await google.colab.kernel.invokeFunction('convertToInteractive',\n",
              "                                                     [key], {});\n",
              "          if (!dataTable) return;\n",
              "\n",
              "          const docLinkHtml = 'Like what you see? Visit the ' +\n",
              "            '<a target=\"_blank\" href=https://colab.research.google.com/notebooks/data_table.ipynb>data table notebook</a>'\n",
              "            + ' to learn more about interactive tables.';\n",
              "          element.innerHTML = '';\n",
              "          dataTable['output_type'] = 'display_data';\n",
              "          await google.colab.output.renderOutput(dataTable, element);\n",
              "          const docLink = document.createElement('div');\n",
              "          docLink.innerHTML = docLinkHtml;\n",
              "          element.appendChild(docLink);\n",
              "        }\n",
              "      </script>\n",
              "    </div>\n",
              "  </div>\n",
              "  "
            ]
          },
          "metadata": {},
          "execution_count": 5
        }
      ]
    },
    {
      "cell_type": "markdown",
      "source": [
        "**retreiving the column names and storing in lst**"
      ],
      "metadata": {
        "id": "htZdj8WVEzWu"
      }
    },
    {
      "cell_type": "code",
      "source": [
        "lst = data.columns"
      ],
      "metadata": {
        "id": "54ApDXuREdg-"
      },
      "execution_count": null,
      "outputs": []
    },
    {
      "cell_type": "code",
      "source": [
        "lst"
      ],
      "metadata": {
        "colab": {
          "base_uri": "https://localhost:8080/"
        },
        "id": "hGfUUViQE2uf",
        "outputId": "adbc90a2-22bb-414e-e085-ed46c5891a85"
      },
      "execution_count": null,
      "outputs": [
        {
          "output_type": "execute_result",
          "data": {
            "text/plain": [
              "Index(['Summary', 'Issue Type', 'Status', 'Priority', 'Assignee', 'Created',\n",
              "       'Description', 'Comment'],\n",
              "      dtype='object')"
            ]
          },
          "metadata": {},
          "execution_count": 8
        }
      ]
    },
    {
      "cell_type": "markdown",
      "source": [
        "**checking the number of records in different categories of Issue type column**"
      ],
      "metadata": {
        "id": "RujchZdoE7Cu"
      }
    },
    {
      "cell_type": "code",
      "source": [
        "data['Issue Type'].value_counts()"
      ],
      "metadata": {
        "colab": {
          "base_uri": "https://localhost:8080/"
        },
        "id": "UQLMCUn_E4A1",
        "outputId": "c57f4a9c-3b0a-4e85-f9aa-a203bef2a700"
      },
      "execution_count": null,
      "outputs": [
        {
          "output_type": "execute_result",
          "data": {
            "text/plain": [
              "Task        570\n",
              "Bug         340\n",
              "Epic         44\n",
              "Sub-task     41\n",
              "Question      5\n",
              "Name: Issue Type, dtype: int64"
            ]
          },
          "metadata": {},
          "execution_count": 9
        }
      ]
    },
    {
      "cell_type": "markdown",
      "source": [
        "**visualizing the number of records in Issue type**"
      ],
      "metadata": {
        "id": "Rt4VI9I_FFHu"
      }
    },
    {
      "cell_type": "code",
      "source": [
        "data['Issue Type'].value_counts().plot.pie(autopct='%1.2f%%',explode = [0.2,0.2,0.4,0.4,0.4])"
      ],
      "metadata": {
        "colab": {
          "base_uri": "https://localhost:8080/",
          "height": 281
        },
        "id": "MViX4w5dE4DN",
        "outputId": "eec18e56-8b99-48a4-b5b3-824688e80c76"
      },
      "execution_count": null,
      "outputs": [
        {
          "output_type": "execute_result",
          "data": {
            "text/plain": [
              "<matplotlib.axes._subplots.AxesSubplot at 0x7fd21bf80a90>"
            ]
          },
          "metadata": {},
          "execution_count": 10
        },
        {
          "output_type": "display_data",
          "data": {
            "text/plain": [
              "<Figure size 432x288 with 1 Axes>"
            ],
            "image/png": "[encoded data removed]"
          },
          "metadata": {}
        }
      ]
    },
    {
      "cell_type": "markdown",
      "source": [
        "There are 34% of records containing the BUG in Issue Type column"
      ],
      "metadata": {
        "id": "CF4t6pJGFaNF"
      }
    },
    {
      "cell_type": "markdown",
      "source": [
        "**dropping the records which are not \"BUG\" in issue type column**\n"
      ],
      "metadata": {
        "id": "6BSFi4H1FQT2"
      }
    },
    {
      "cell_type": "code",
      "source": [
        "i = data[(data['Issue Type'] != 'Bug')].index\n",
        "data = data.drop(i,axis=0)"
      ],
      "metadata": {
        "id": "jCA8Dg7nFL5C"
      },
      "execution_count": null,
      "outputs": []
    },
    {
      "cell_type": "markdown",
      "source": [
        "**now checking the number of records after dropping other than bug**"
      ],
      "metadata": {
        "id": "qjk1mZveFkou"
      }
    },
    {
      "cell_type": "code",
      "source": [
        "data.shape[0]"
      ],
      "metadata": {
        "colab": {
          "base_uri": "https://localhost:8080/"
        },
        "id": "2oOK3JPRFlhe",
        "outputId": "f0f5d194-8b0f-4e06-b4f4-6d644fd609c6"
      },
      "execution_count": null,
      "outputs": [
        {
          "output_type": "execute_result",
          "data": {
            "text/plain": [
              "340"
            ]
          },
          "metadata": {},
          "execution_count": 12
        }
      ]
    },
    {
      "cell_type": "markdown",
      "source": [
        "**checking the number of records in different category of Status**"
      ],
      "metadata": {
        "id": "RHUS5VAJFwUt"
      }
    },
    {
      "cell_type": "code",
      "source": [
        "data['Status'].value_counts()"
      ],
      "metadata": {
        "colab": {
          "base_uri": "https://localhost:8080/"
        },
        "id": "tMOH55JGFnHK",
        "outputId": "7e9dc788-52fc-4a67-a606-0eeb3e1ead13"
      },
      "execution_count": null,
      "outputs": [
        {
          "output_type": "execute_result",
          "data": {
            "text/plain": [
              "Resolved       197\n",
              "Closed         131\n",
              "In Progress      7\n",
              "Open             5\n",
              "Name: Status, dtype: int64"
            ]
          },
          "metadata": {},
          "execution_count": 13
        }
      ]
    },
    {
      "cell_type": "markdown",
      "source": [
        "**visualizing the number of records in Status**"
      ],
      "metadata": {
        "id": "4S8h2rQhF1AO"
      }
    },
    {
      "cell_type": "code",
      "source": [
        "data['Status'].value_counts().plot.pie(autopct='%1.2f%%')"
      ],
      "metadata": {
        "colab": {
          "base_uri": "https://localhost:8080/",
          "height": 265
        },
        "id": "sFAfQsjTF12z",
        "outputId": "58bbc74b-944f-4748-c26a-9258739084b1"
      },
      "execution_count": null,
      "outputs": [
        {
          "output_type": "execute_result",
          "data": {
            "text/plain": [
              "<matplotlib.axes._subplots.AxesSubplot at 0x7fd21bed8cd0>"
            ]
          },
          "metadata": {},
          "execution_count": 14
        },
        {
          "output_type": "display_data",
          "data": {
            "text/plain": [
              "<Figure size 432x288 with 1 Axes>"
            ],
            "image/png": "[encoded data removed]"
          },
          "metadata": {}
        }
      ]
    },
    {
      "cell_type": "markdown",
      "source": [
        "**checking the number of records in different category of Priority**"
      ],
      "metadata": {
        "id": "VQU0wb9bF6We"
      }
    },
    {
      "cell_type": "code",
      "source": [
        "data['Priority'].value_counts()"
      ],
      "metadata": {
        "colab": {
          "base_uri": "https://localhost:8080/"
        },
        "id": "CBap6DhYF7Wf",
        "outputId": "07757856-fb33-4d7d-af68-1015ab6afed1"
      },
      "execution_count": null,
      "outputs": [
        {
          "output_type": "execute_result",
          "data": {
            "text/plain": [
              "Medium         304\n",
              "High            13\n",
              "Highest         13\n",
              "Low              7\n",
              "Showstopper      3\n",
              "Name: Priority, dtype: int64"
            ]
          },
          "metadata": {},
          "execution_count": 15
        }
      ]
    },
    {
      "cell_type": "markdown",
      "source": [
        "**visualizing the number of records in Priority**"
      ],
      "metadata": {
        "id": "Xs4qQbuJF_Su"
      }
    },
    {
      "cell_type": "code",
      "source": [
        "data['Priority'].value_counts().plot.pie(autopct='%1.2f%%',explode=[0.1,0.1,0.1,0.3,0.3])"
      ],
      "metadata": {
        "colab": {
          "base_uri": "https://localhost:8080/",
          "height": 265
        },
        "id": "uEpF4GnKF9ER",
        "outputId": "8beafd29-24cc-4a77-a15d-03ba65466343"
      },
      "execution_count": null,
      "outputs": [
        {
          "output_type": "execute_result",
          "data": {
            "text/plain": [
              "<matplotlib.axes._subplots.AxesSubplot at 0x7fd21b9f1cd0>"
            ]
          },
          "metadata": {},
          "execution_count": 16
        },
        {
          "output_type": "display_data",
          "data": {
            "text/plain": [
              "<Figure size 432x288 with 1 Axes>"
            ],
            "image/png": "[encoded data removed]"
          },
          "metadata": {}
        }
      ]
    },
    {
      "cell_type": "markdown",
      "source": [
        "**checking the Assignee names**"
      ],
      "metadata": {
        "id": "50uHqe2bGF1-"
      }
    },
    {
      "cell_type": "code",
      "source": [
        "l = list(data['Assignee'].unique())\n",
        "l"
      ],
      "metadata": {
        "colab": {
          "base_uri": "https://localhost:8080/"
        },
        "id": "GnMOlnQiGCAd",
        "outputId": "30fdd1d1-82f9-4048-9bb8-343176fae3a4"
      },
      "execution_count": null,
      "outputs": [
        {
          "output_type": "execute_result",
          "data": {
            "text/plain": [
              "['John Ingalls',\n",
              " 'Nicolas Brunie',\n",
              " 'Satish Bhavanari',\n",
              " 'Yohann Rabefarihy',\n",
              " 'Srivatsa Yogendra',\n",
              " 'Jeffrey Huang',\n",
              " 'David Kravitz',\n",
              " 'Andrew Hanselman',\n",
              " 'Ishita Shah',\n",
              " 'Kira Tsao',\n",
              " 'Binayak Tiwari',\n",
              " 'Brad Wu',\n",
              " 'Alexandre Solomatnikov',\n",
              " 'Steffen Kunze',\n",
              " 'Naveen Rathore',\n",
              " 'Julian Bailey',\n",
              " 'Adam George',\n",
              " 'Abderrahmane Sensaoui',\n",
              " 'Cyril Bresch',\n",
              " 'Anthony Hung',\n",
              " 'Deepika S K',\n",
              " 'Shaka Kao',\n",
              " 'Saurabh Singh',\n",
              " 'Josh Smith',\n",
              " 'Lance Huang',\n",
              " 'Krishnendu Patra',\n",
              " 'Warren Menezes',\n",
              " 'Erdinc Ozturk',\n",
              " 'Khondakar Mujtaba',\n",
              " 'Dave Parry',\n",
              " 'Alvin Tung',\n",
              " 'Rick Chen']"
            ]
          },
          "metadata": {},
          "execution_count": 17
        }
      ]
    },
    {
      "cell_type": "markdown",
      "source": [
        "**checking the number of records for each Assignee**"
      ],
      "metadata": {
        "id": "De0zKdCpGNY_"
      }
    },
    {
      "cell_type": "code",
      "source": [
        "data['Assignee'].value_counts()"
      ],
      "metadata": {
        "colab": {
          "base_uri": "https://localhost:8080/"
        },
        "id": "G4ShXWWRGJeJ",
        "outputId": "4dbb83c7-ad1a-4041-ec98-8c5e4ee6ddb8"
      },
      "execution_count": null,
      "outputs": [
        {
          "output_type": "execute_result",
          "data": {
            "text/plain": [
              "Nicolas Brunie            82\n",
              "John Ingalls              53\n",
              "David Kravitz             31\n",
              "Andrew Hanselman          26\n",
              "Kira Tsao                 23\n",
              "Josh Smith                17\n",
              "Alexandre Solomatnikov    14\n",
              "Adam George               14\n",
              "Yohann Rabefarihy         13\n",
              "Naveen Rathore            10\n",
              "Binayak Tiwari             8\n",
              "Brad Wu                    7\n",
              "Srivatsa Yogendra          6\n",
              "Saurabh Singh              6\n",
              "Ishita Shah                4\n",
              "Rick Chen                  4\n",
              "Abderrahmane Sensaoui      3\n",
              "Warren Menezes             3\n",
              "Shaka Kao                  2\n",
              "Deepika S K                2\n",
              "Julian Bailey              1\n",
              "Cyril Bresch               1\n",
              "Anthony Hung               1\n",
              "Jeffrey Huang              1\n",
              "Steffen Kunze              1\n",
              "Satish Bhavanari           1\n",
              "Lance Huang                1\n",
              "Krishnendu Patra           1\n",
              "Erdinc Ozturk              1\n",
              "Khondakar Mujtaba          1\n",
              "Dave Parry                 1\n",
              "Alvin Tung                 1\n",
              "Name: Assignee, dtype: int64"
            ]
          },
          "metadata": {},
          "execution_count": 18
        }
      ]
    },
    {
      "cell_type": "markdown",
      "source": [
        "**Visualizing the Assignee column**"
      ],
      "metadata": {
        "id": "rXIpFx-HGMtG"
      }
    },
    {
      "cell_type": "code",
      "source": [
        "ind = data['Assignee'].value_counts().index\n",
        "val = data['Assignee'].value_counts().values\n",
        "\n",
        "\n",
        "plt.figure(figsize=(35,10))\n",
        "plt.title(\"Visualization of Assignee\")\n",
        "plt.xlabel(\"Assignee Names\")\n",
        "plt.ylabel(\"Assignee count\")\n",
        "\n",
        "sns.countplot(x=\"Assignee\",data=data)"
      ],
      "metadata": {
        "colab": {
          "base_uri": "https://localhost:8080/",
          "height": 370
        },
        "id": "wWQAL_FcGURC",
        "outputId": "6b894a5c-c399-4bc1-968e-df1c012d0a8e"
      },
      "execution_count": null,
      "outputs": [
        {
          "output_type": "execute_result",
          "data": {
            "text/plain": [
              "<matplotlib.axes._subplots.AxesSubplot at 0x7fd21b9da590>"
            ]
          },
          "metadata": {},
          "execution_count": 19
        },
        {
          "output_type": "display_data",
          "data": {
            "text/plain": [
              "<Figure size 2520x720 with 1 Axes>"
            ],
            "image/png": "[encoded data removed]"
          },
          "metadata": {
            "needs_background": "light"
          }
        }
      ]
    },
    {
      "cell_type": "markdown",
      "source": [
        "**creating a dataframe of 3 columns from data**"
      ],
      "metadata": {
        "id": "rKbvmp3WGleQ"
      }
    },
    {
      "cell_type": "code",
      "source": [
        "df = data[['Assignee','Priority','Status']]"
      ],
      "metadata": {
        "id": "Y9u6RR2QGmqi"
      },
      "execution_count": null,
      "outputs": []
    },
    {
      "cell_type": "markdown",
      "source": [
        "**checking the different priority count for each Assignee**"
      ],
      "metadata": {
        "id": "Tavvp9EsGwte"
      }
    },
    {
      "cell_type": "code",
      "source": [
        "df.groupby(['Assignee','Priority']).size().reset_index()"
      ],
      "metadata": {
        "colab": {
          "base_uri": "https://localhost:8080/",
          "height": 1000
        },
        "id": "7Tu_j_9JGxzj",
        "outputId": "e75d4ab6-f31a-40e7-d6fe-684071f9bc3e"
      },
      "execution_count": null,
      "outputs": [
        {
          "output_type": "execute_result",
          "data": {
            "text/plain": [
              "                  Assignee     Priority   0\n",
              "0    Abderrahmane Sensaoui         High   1\n",
              "1    Abderrahmane Sensaoui       Medium   2\n",
              "2              Adam George         High   1\n",
              "3              Adam George          Low   2\n",
              "4              Adam George       Medium  11\n",
              "5   Alexandre Solomatnikov       Medium  14\n",
              "6               Alvin Tung       Medium   1\n",
              "7         Andrew Hanselman         High   2\n",
              "8         Andrew Hanselman      Highest   6\n",
              "9         Andrew Hanselman       Medium  18\n",
              "10            Anthony Hung      Highest   1\n",
              "11          Binayak Tiwari       Medium   8\n",
              "12                 Brad Wu       Medium   7\n",
              "13            Cyril Bresch       Medium   1\n",
              "14              Dave Parry       Medium   1\n",
              "15           David Kravitz         High   1\n",
              "16           David Kravitz      Highest   1\n",
              "17           David Kravitz       Medium  29\n",
              "18             Deepika S K       Medium   2\n",
              "19           Erdinc Ozturk       Medium   1\n",
              "20             Ishita Shah       Medium   4\n",
              "21           Jeffrey Huang       Medium   1\n",
              "22            John Ingalls         High   1\n",
              "23            John Ingalls      Highest   2\n",
              "24            John Ingalls          Low   1\n",
              "25            John Ingalls       Medium  49\n",
              "26              Josh Smith       Medium  17\n",
              "27           Julian Bailey       Medium   1\n",
              "28       Khondakar Mujtaba       Medium   1\n",
              "29               Kira Tsao         High   2\n",
              "30               Kira Tsao      Highest   1\n",
              "31               Kira Tsao       Medium  20\n",
              "32        Krishnendu Patra         High   1\n",
              "33             Lance Huang       Medium   1\n",
              "34          Naveen Rathore       Medium  10\n",
              "35          Nicolas Brunie         High   3\n",
              "36          Nicolas Brunie      Highest   2\n",
              "37          Nicolas Brunie       Medium  76\n",
              "38          Nicolas Brunie  Showstopper   1\n",
              "39               Rick Chen       Medium   4\n",
              "40        Satish Bhavanari       Medium   1\n",
              "41           Saurabh Singh       Medium   6\n",
              "42               Shaka Kao         High   1\n",
              "43               Shaka Kao       Medium   1\n",
              "44       Srivatsa Yogendra       Medium   6\n",
              "45           Steffen Kunze       Medium   1\n",
              "46          Warren Menezes          Low   1\n",
              "47          Warren Menezes       Medium   2\n",
              "48       Yohann Rabefarihy          Low   3\n",
              "49       Yohann Rabefarihy       Medium   8\n",
              "50       Yohann Rabefarihy  Showstopper   2"
            ],
            "text/html": [
              "\n",
              "  <div id=\"df-bbd2567b-c2f0-4562-b6ce-0c44eac72ec7\">\n",
              "    <div class=\"colab-df-container\">\n",
              "      <div>\n",
              "<style scoped>\n",
              "    .dataframe tbody tr th:only-of-type {\n",
              "        vertical-align: middle;\n",
              "    }\n",
              "\n",
              "    .dataframe tbody tr th {\n",
              "        vertical-align: top;\n",
              "    }\n",
              "\n",
              "    .dataframe thead th {\n",
              "        text-align: right;\n",
              "    }\n",
              "</style>\n",
              "<table border=\"1\" class=\"dataframe\">\n",
              "  <thead>\n",
              "    <tr style=\"text-align: right;\">\n",
              "      <th></th>\n",
              "      <th>Assignee</th>\n",
              "      <th>Priority</th>\n",
              "      <th>0</th>\n",
              "    </tr>\n",
              "  </thead>\n",
              "  <tbody>\n",
              "    <tr>\n",
              "      <th>0</th>\n",
              "      <td>Abderrahmane Sensaoui</td>\n",
              "      <td>High</td>\n",
              "      <td>1</td>\n",
              "    </tr>\n",
              "    <tr>\n",
              "      <th>1</th>\n",
              "      <td>Abderrahmane Sensaoui</td>\n",
              "      <td>Medium</td>\n",
              "      <td>2</td>\n",
              "    </tr>\n",
              "    <tr>\n",
              "      <th>2</th>\n",
              "      <td>Adam George</td>\n",
              "      <td>High</td>\n",
              "      <td>1</td>\n",
              "    </tr>\n",
              "    <tr>\n",
              "      <th>3</th>\n",
              "      <td>Adam George</td>\n",
              "      <td>Low</td>\n",
              "      <td>2</td>\n",
              "    </tr>\n",
              "    <tr>\n",
              "      <th>4</th>\n",
              "      <td>Adam George</td>\n",
              "      <td>Medium</td>\n",
              "      <td>11</td>\n",
              "    </tr>\n",
              "    <tr>\n",
              "      <th>5</th>\n",
              "      <td>Alexandre Solomatnikov</td>\n",
              "      <td>Medium</td>\n",
              "      <td>14</td>\n",
              "    </tr>\n",
              "    <tr>\n",
              "      <th>6</th>\n",
              "      <td>Alvin Tung</td>\n",
              "      <td>Medium</td>\n",
              "      <td>1</td>\n",
              "    </tr>\n",
              "    <tr>\n",
              "      <th>7</th>\n",
              "      <td>Andrew Hanselman</td>\n",
              "      <td>High</td>\n",
              "      <td>2</td>\n",
              "    </tr>\n",
              "    <tr>\n",
              "      <th>8</th>\n",
              "      <td>Andrew Hanselman</td>\n",
              "      <td>Highest</td>\n",
              "      <td>6</td>\n",
              "    </tr>\n",
              "    <tr>\n",
              "      <th>9</th>\n",
              "      <td>Andrew Hanselman</td>\n",
              "      <td>Medium</td>\n",
              "      <td>18</td>\n",
              "    </tr>\n",
              "    <tr>\n",
              "      <th>10</th>\n",
              "      <td>Anthony Hung</td>\n",
              "      <td>Highest</td>\n",
              "      <td>1</td>\n",
              "    </tr>\n",
              "    <tr>\n",
              "      <th>11</th>\n",
              "      <td>Binayak Tiwari</td>\n",
              "      <td>Medium</td>\n",
              "      <td>8</td>\n",
              "    </tr>\n",
              "    <tr>\n",
              "      <th>12</th>\n",
              "      <td>Brad Wu</td>\n",
              "      <td>Medium</td>\n",
              "      <td>7</td>\n",
              "    </tr>\n",
              "    <tr>\n",
              "      <th>13</th>\n",
              "      <td>Cyril Bresch</td>\n",
              "      <td>Medium</td>\n",
              "      <td>1</td>\n",
              "    </tr>\n",
              "    <tr>\n",
              "      <th>14</th>\n",
              "      <td>Dave Parry</td>\n",
              "      <td>Medium</td>\n",
              "      <td>1</td>\n",
              "    </tr>\n",
              "    <tr>\n",
              "      <th>15</th>\n",
              "      <td>David Kravitz</td>\n",
              "      <td>High</td>\n",
              "      <td>1</td>\n",
              "    </tr>\n",
              "    <tr>\n",
              "      <th>16</th>\n",
              "      <td>David Kravitz</td>\n",
              "      <td>Highest</td>\n",
              "      <td>1</td>\n",
              "    </tr>\n",
              "    <tr>\n",
              "      <th>17</th>\n",
              "      <td>David Kravitz</td>\n",
              "      <td>Medium</td>\n",
              "      <td>29</td>\n",
              "    </tr>\n",
              "    <tr>\n",
              "      <th>18</th>\n",
              "      <td>Deepika S K</td>\n",
              "      <td>Medium</td>\n",
              "      <td>2</td>\n",
              "    </tr>\n",
              "    <tr>\n",
              "      <th>19</th>\n",
              "      <td>Erdinc Ozturk</td>\n",
              "      <td>Medium</td>\n",
              "      <td>1</td>\n",
              "    </tr>\n",
              "    <tr>\n",
              "      <th>20</th>\n",
              "      <td>Ishita Shah</td>\n",
              "      <td>Medium</td>\n",
              "      <td>4</td>\n",
              "    </tr>\n",
              "    <tr>\n",
              "      <th>21</th>\n",
              "      <td>Jeffrey Huang</td>\n",
              "      <td>Medium</td>\n",
              "      <td>1</td>\n",
              "    </tr>\n",
              "    <tr>\n",
              "      <th>22</th>\n",
              "      <td>John Ingalls</td>\n",
              "      <td>High</td>\n",
              "      <td>1</td>\n",
              "    </tr>\n",
              "    <tr>\n",
              "      <th>23</th>\n",
              "      <td>John Ingalls</td>\n",
              "      <td>Highest</td>\n",
              "      <td>2</td>\n",
              "    </tr>\n",
              "    <tr>\n",
              "      <th>24</th>\n",
              "      <td>John Ingalls</td>\n",
              "      <td>Low</td>\n",
              "      <td>1</td>\n",
              "    </tr>\n",
              "    <tr>\n",
              "      <th>25</th>\n",
              "      <td>John Ingalls</td>\n",
              "      <td>Medium</td>\n",
              "      <td>49</td>\n",
              "    </tr>\n",
              "    <tr>\n",
              "      <th>26</th>\n",
              "      <td>Josh Smith</td>\n",
              "      <td>Medium</td>\n",
              "      <td>17</td>\n",
              "    </tr>\n",
              "    <tr>\n",
              "      <th>27</th>\n",
              "      <td>Julian Bailey</td>\n",
              "      <td>Medium</td>\n",
              "      <td>1</td>\n",
              "    </tr>\n",
              "    <tr>\n",
              "      <th>28</th>\n",
              "      <td>Khondakar Mujtaba</td>\n",
              "      <td>Medium</td>\n",
              "      <td>1</td>\n",
              "    </tr>\n",
              "    <tr>\n",
              "      <th>29</th>\n",
              "      <td>Kira Tsao</td>\n",
              "      <td>High</td>\n",
              "      <td>2</td>\n",
              "    </tr>\n",
              "    <tr>\n",
              "      <th>30</th>\n",
              "      <td>Kira Tsao</td>\n",
              "      <td>Highest</td>\n",
              "      <td>1</td>\n",
              "    </tr>\n",
              "    <tr>\n",
              "      <th>31</th>\n",
              "      <td>Kira Tsao</td>\n",
              "      <td>Medium</td>\n",
              "      <td>20</td>\n",
              "    </tr>\n",
              "    <tr>\n",
              "      <th>32</th>\n",
              "      <td>Krishnendu Patra</td>\n",
              "      <td>High</td>\n",
              "      <td>1</td>\n",
              "    </tr>\n",
              "    <tr>\n",
              "      <th>33</th>\n",
              "      <td>Lance Huang</td>\n",
              "      <td>Medium</td>\n",
              "      <td>1</td>\n",
              "    </tr>\n",
              "    <tr>\n",
              "      <th>34</th>\n",
              "      <td>Naveen Rathore</td>\n",
              "      <td>Medium</td>\n",
              "      <td>10</td>\n",
              "    </tr>\n",
              "    <tr>\n",
              "      <th>35</th>\n",
              "      <td>Nicolas Brunie</td>\n",
              "      <td>High</td>\n",
              "      <td>3</td>\n",
              "    </tr>\n",
              "    <tr>\n",
              "      <th>36</th>\n",
              "      <td>Nicolas Brunie</td>\n",
              "      <td>Highest</td>\n",
              "      <td>2</td>\n",
              "    </tr>\n",
              "    <tr>\n",
              "      <th>37</th>\n",
              "      <td>Nicolas Brunie</td>\n",
              "      <td>Medium</td>\n",
              "      <td>76</td>\n",
              "    </tr>\n",
              "    <tr>\n",
              "      <th>38</th>\n",
              "      <td>Nicolas Brunie</td>\n",
              "      <td>Showstopper</td>\n",
              "      <td>1</td>\n",
              "    </tr>\n",
              "    <tr>\n",
              "      <th>39</th>\n",
              "      <td>Rick Chen</td>\n",
              "      <td>Medium</td>\n",
              "      <td>4</td>\n",
              "    </tr>\n",
              "    <tr>\n",
              "      <th>40</th>\n",
              "      <td>Satish Bhavanari</td>\n",
              "      <td>Medium</td>\n",
              "      <td>1</td>\n",
              "    </tr>\n",
              "    <tr>\n",
              "      <th>41</th>\n",
              "      <td>Saurabh Singh</td>\n",
              "      <td>Medium</td>\n",
              "      <td>6</td>\n",
              "    </tr>\n",
              "    <tr>\n",
              "      <th>42</th>\n",
              "      <td>Shaka Kao</td>\n",
              "      <td>High</td>\n",
              "      <td>1</td>\n",
              "    </tr>\n",
              "    <tr>\n",
              "      <th>43</th>\n",
              "      <td>Shaka Kao</td>\n",
              "      <td>Medium</td>\n",
              "      <td>1</td>\n",
              "    </tr>\n",
              "    <tr>\n",
              "      <th>44</th>\n",
              "      <td>Srivatsa Yogendra</td>\n",
              "      <td>Medium</td>\n",
              "      <td>6</td>\n",
              "    </tr>\n",
              "    <tr>\n",
              "      <th>45</th>\n",
              "      <td>Steffen Kunze</td>\n",
              "      <td>Medium</td>\n",
              "      <td>1</td>\n",
              "    </tr>\n",
              "    <tr>\n",
              "      <th>46</th>\n",
              "      <td>Warren Menezes</td>\n",
              "      <td>Low</td>\n",
              "      <td>1</td>\n",
              "    </tr>\n",
              "    <tr>\n",
              "      <th>47</th>\n",
              "      <td>Warren Menezes</td>\n",
              "      <td>Medium</td>\n",
              "      <td>2</td>\n",
              "    </tr>\n",
              "    <tr>\n",
              "      <th>48</th>\n",
              "      <td>Yohann Rabefarihy</td>\n",
              "      <td>Low</td>\n",
              "      <td>3</td>\n",
              "    </tr>\n",
              "    <tr>\n",
              "      <th>49</th>\n",
              "      <td>Yohann Rabefarihy</td>\n",
              "      <td>Medium</td>\n",
              "      <td>8</td>\n",
              "    </tr>\n",
              "    <tr>\n",
              "      <th>50</th>\n",
              "      <td>Yohann Rabefarihy</td>\n",
              "      <td>Showstopper</td>\n",
              "      <td>2</td>\n",
              "    </tr>\n",
              "  </tbody>\n",
              "</table>\n",
              "</div>\n",
              "      <button class=\"colab-df-convert\" onclick=\"convertToInteractive('df-bbd2567b-c2f0-4562-b6ce-0c44eac72ec7')\"\n",
              "              title=\"Convert this dataframe to an interactive table.\"\n",
              "              style=\"display:none;\">\n",
              "        \n",
              "  <svg xmlns=\"http://www.w3.org/2000/svg\" height=\"24px\"viewBox=\"0 0 24 24\"\n",
              "       width=\"24px\">\n",
              "    <path d=\"M0 0h24v24H0V0z\" fill=\"none\"/>\n",
              "    <path d=\"M18.56 5.44l.94 2.06.94-2.06 2.06-.94-2.06-.94-.94-2.06-.94 2.06-2.06.94zm-11 1L8.5 8.5l.94-2.06 2.06-.94-2.06-.94L8.5 2.5l-.94 2.06-2.06.94zm10 10l.94 2.06.94-2.06 2.06-.94-2.06-.94-.94-2.06-.94 2.06-2.06.94z\"/><path d=\"M17.41 7.96l-1.37-1.37c-.4-.4-.92-.59-1.43-.59-.52 0-1.04.2-1.43.59L10.3 9.45l-7.72 7.72c-.78.78-.78 2.05 0 2.83L4 21.41c.39.39.9.59 1.41.59.51 0 1.02-.2 1.41-.59l7.78-7.78 2.81-2.81c.8-.78.8-2.07 0-2.86zM5.41 20L4 18.59l7.72-7.72 1.47 1.35L5.41 20z\"/>\n",
              "  </svg>\n",
              "      </button>\n",
              "      \n",
              "  <style>\n",
              "    .colab-df-container {\n",
              "      display:flex;\n",
              "      flex-wrap:wrap;\n",
              "      gap: 12px;\n",
              "    }\n",
              "\n",
              "    .colab-df-convert {\n",
              "      background-color: #E8F0FE;\n",
              "      border: none;\n",
              "      border-radius: 50%;\n",
              "      cursor: pointer;\n",
              "      display: none;\n",
              "      fill: #1967D2;\n",
              "      height: 32px;\n",
              "      padding: 0 0 0 0;\n",
              "      width: 32px;\n",
              "    }\n",
              "\n",
              "    .colab-df-convert:hover {\n",
              "      background-color: #E2EBFA;\n",
              "      box-shadow: 0px 1px 2px rgba(60, 64, 67, 0.3), 0px 1px 3px 1px rgba(60, 64, 67, 0.15);\n",
              "      fill: #174EA6;\n",
              "    }\n",
              "\n",
              "    [theme=dark] .colab-df-convert {\n",
              "      background-color: #3B4455;\n",
              "      fill: #D2E3FC;\n",
              "    }\n",
              "\n",
              "    [theme=dark] .colab-df-convert:hover {\n",
              "      background-color: #434B5C;\n",
              "      box-shadow: 0px 1px 3px 1px rgba(0, 0, 0, 0.15);\n",
              "      filter: drop-shadow(0px 1px 2px rgba(0, 0, 0, 0.3));\n",
              "      fill: #FFFFFF;\n",
              "    }\n",
              "  </style>\n",
              "\n",
              "      <script>\n",
              "        const buttonEl =\n",
              "          document.querySelector('#df-bbd2567b-c2f0-4562-b6ce-0c44eac72ec7 button.colab-df-convert');\n",
              "        buttonEl.style.display =\n",
              "          google.colab.kernel.accessAllowed ? 'block' : 'none';\n",
              "\n",
              "        async function convertToInteractive(key) {\n",
              "          const element = document.querySelector('#df-bbd2567b-c2f0-4562-b6ce-0c44eac72ec7');\n",
              "          const dataTable =\n",
              "            await google.colab.kernel.invokeFunction('convertToInteractive',\n",
              "                                                     [key], {});\n",
              "          if (!dataTable) return;\n",
              "\n",
              "          const docLinkHtml = 'Like what you see? Visit the ' +\n",
              "            '<a target=\"_blank\" href=https://colab.research.google.com/notebooks/data_table.ipynb>data table notebook</a>'\n",
              "            + ' to learn more about interactive tables.';\n",
              "          element.innerHTML = '';\n",
              "          dataTable['output_type'] = 'display_data';\n",
              "          await google.colab.output.renderOutput(dataTable, element);\n",
              "          const docLink = document.createElement('div');\n",
              "          docLink.innerHTML = docLinkHtml;\n",
              "          element.appendChild(docLink);\n",
              "        }\n",
              "      </script>\n",
              "    </div>\n",
              "  </div>\n",
              "  "
            ]
          },
          "metadata": {},
          "execution_count": 21
        }
      ]
    },
    {
      "cell_type": "markdown",
      "source": [
        "**Visualizing the differnt priority count for each Assignee**"
      ],
      "metadata": {
        "id": "jkgcwUjyG0sf"
      }
    },
    {
      "cell_type": "code",
      "source": [
        "plt.figure(figsize=(35,10))\n",
        "plt.title(\"Visualization differnt priority count for each Assignee\")\n",
        "plt.xlabel(\"Assignee Names\")\n",
        "plt.ylabel(\"Priority count\")\n",
        "sns.countplot(x=\"Assignee\",data=data,hue='Priority')"
      ],
      "metadata": {
        "colab": {
          "base_uri": "https://localhost:8080/",
          "height": 658
        },
        "id": "m1cjCv2VG3yt",
        "outputId": "d66d5fa5-162b-4dbb-983c-b0b03149676a"
      },
      "execution_count": null,
      "outputs": [
        {
          "output_type": "execute_result",
          "data": {
            "text/plain": [
              "<matplotlib.axes._subplots.AxesSubplot at 0x7fd21b7fa8d0>"
            ]
          },
          "metadata": {},
          "execution_count": 22
        },
        {
          "output_type": "display_data",
          "data": {
            "text/plain": [
              "<Figure size 2520x720 with 1 Axes>"
            ],
            "image/png": "[encoded data removed]"
          },
          "metadata": {
            "needs_background": "light"
          }
        }
      ]
    },
    {
      "cell_type": "markdown",
      "source": [
        "**checking the Status for each Assignee**"
      ],
      "metadata": {
        "id": "GBksBdyoG_t-"
      }
    },
    {
      "cell_type": "code",
      "source": [
        "df.groupby(['Assignee','Status']).size().reset_index()"
      ],
      "metadata": {
        "colab": {
          "base_uri": "https://localhost:8080/",
          "height": 1000
        },
        "id": "8meCZ8bqHEYQ",
        "outputId": "7e939b5c-ea7d-48ba-b507-f6d359034c92"
      },
      "execution_count": null,
      "outputs": [
        {
          "output_type": "execute_result",
          "data": {
            "text/plain": [
              "                  Assignee       Status   0\n",
              "0    Abderrahmane Sensaoui  In Progress   2\n",
              "1    Abderrahmane Sensaoui         Open   1\n",
              "2              Adam George       Closed   1\n",
              "3              Adam George     Resolved  13\n",
              "4   Alexandre Solomatnikov       Closed  10\n",
              "5   Alexandre Solomatnikov     Resolved   4\n",
              "6               Alvin Tung       Closed   1\n",
              "7         Andrew Hanselman       Closed   7\n",
              "8         Andrew Hanselman  In Progress   1\n",
              "9         Andrew Hanselman     Resolved  18\n",
              "10            Anthony Hung     Resolved   1\n",
              "11          Binayak Tiwari     Resolved   8\n",
              "12                 Brad Wu     Resolved   7\n",
              "13            Cyril Bresch     Resolved   1\n",
              "14              Dave Parry     Resolved   1\n",
              "15           David Kravitz       Closed  18\n",
              "16           David Kravitz         Open   2\n",
              "17           David Kravitz     Resolved  11\n",
              "18             Deepika S K       Closed   1\n",
              "19             Deepika S K     Resolved   1\n",
              "20           Erdinc Ozturk       Closed   1\n",
              "21             Ishita Shah       Closed   2\n",
              "22             Ishita Shah     Resolved   2\n",
              "23           Jeffrey Huang       Closed   1\n",
              "24            John Ingalls       Closed  50\n",
              "25            John Ingalls         Open   1\n",
              "26            John Ingalls     Resolved   2\n",
              "27              Josh Smith       Closed   7\n",
              "28              Josh Smith     Resolved  10\n",
              "29           Julian Bailey       Closed   1\n",
              "30       Khondakar Mujtaba       Closed   1\n",
              "31               Kira Tsao       Closed   6\n",
              "32               Kira Tsao     Resolved  17\n",
              "33        Krishnendu Patra     Resolved   1\n",
              "34             Lance Huang     Resolved   1\n",
              "35          Naveen Rathore       Closed   1\n",
              "36          Naveen Rathore     Resolved   9\n",
              "37          Nicolas Brunie       Closed   9\n",
              "38          Nicolas Brunie  In Progress   3\n",
              "39          Nicolas Brunie     Resolved  70\n",
              "40               Rick Chen       Closed   2\n",
              "41               Rick Chen     Resolved   2\n",
              "42        Satish Bhavanari       Closed   1\n",
              "43           Saurabh Singh       Closed   1\n",
              "44           Saurabh Singh     Resolved   5\n",
              "45               Shaka Kao     Resolved   2\n",
              "46       Srivatsa Yogendra       Closed   6\n",
              "47           Steffen Kunze  In Progress   1\n",
              "48          Warren Menezes       Closed   1\n",
              "49          Warren Menezes     Resolved   2\n",
              "50       Yohann Rabefarihy       Closed   3\n",
              "51       Yohann Rabefarihy         Open   1\n",
              "52       Yohann Rabefarihy     Resolved   9"
            ],
            "text/html": [
              "\n",
              "  <div id=\"df-ced74054-007d-4236-a50b-e566a4444438\">\n",
              "    <div class=\"colab-df-container\">\n",
              "      <div>\n",
              "<style scoped>\n",
              "    .dataframe tbody tr th:only-of-type {\n",
              "        vertical-align: middle;\n",
              "    }\n",
              "\n",
              "    .dataframe tbody tr th {\n",
              "        vertical-align: top;\n",
              "    }\n",
              "\n",
              "    .dataframe thead th {\n",
              "        text-align: right;\n",
              "    }\n",
              "</style>\n",
              "<table border=\"1\" class=\"dataframe\">\n",
              "  <thead>\n",
              "    <tr style=\"text-align: right;\">\n",
              "      <th></th>\n",
              "      <th>Assignee</th>\n",
              "      <th>Status</th>\n",
              "      <th>0</th>\n",
              "    </tr>\n",
              "  </thead>\n",
              "  <tbody>\n",
              "    <tr>\n",
              "      <th>0</th>\n",
              "      <td>Abderrahmane Sensaoui</td>\n",
              "      <td>In Progress</td>\n",
              "      <td>2</td>\n",
              "    </tr>\n",
              "    <tr>\n",
              "      <th>1</th>\n",
              "      <td>Abderrahmane Sensaoui</td>\n",
              "      <td>Open</td>\n",
              "      <td>1</td>\n",
              "    </tr>\n",
              "    <tr>\n",
              "      <th>2</th>\n",
              "      <td>Adam George</td>\n",
              "      <td>Closed</td>\n",
              "      <td>1</td>\n",
              "    </tr>\n",
              "    <tr>\n",
              "      <th>3</th>\n",
              "      <td>Adam George</td>\n",
              "      <td>Resolved</td>\n",
              "      <td>13</td>\n",
              "    </tr>\n",
              "    <tr>\n",
              "      <th>4</th>\n",
              "      <td>Alexandre Solomatnikov</td>\n",
              "      <td>Closed</td>\n",
              "      <td>10</td>\n",
              "    </tr>\n",
              "    <tr>\n",
              "      <th>5</th>\n",
              "      <td>Alexandre Solomatnikov</td>\n",
              "      <td>Resolved</td>\n",
              "      <td>4</td>\n",
              "    </tr>\n",
              "    <tr>\n",
              "      <th>6</th>\n",
              "      <td>Alvin Tung</td>\n",
              "      <td>Closed</td>\n",
              "      <td>1</td>\n",
              "    </tr>\n",
              "    <tr>\n",
              "      <th>7</th>\n",
              "      <td>Andrew Hanselman</td>\n",
              "      <td>Closed</td>\n",
              "      <td>7</td>\n",
              "    </tr>\n",
              "    <tr>\n",
              "      <th>8</th>\n",
              "      <td>Andrew Hanselman</td>\n",
              "      <td>In Progress</td>\n",
              "      <td>1</td>\n",
              "    </tr>\n",
              "    <tr>\n",
              "      <th>9</th>\n",
              "      <td>Andrew Hanselman</td>\n",
              "      <td>Resolved</td>\n",
              "      <td>18</td>\n",
              "    </tr>\n",
              "    <tr>\n",
              "      <th>10</th>\n",
              "      <td>Anthony Hung</td>\n",
              "      <td>Resolved</td>\n",
              "      <td>1</td>\n",
              "    </tr>\n",
              "    <tr>\n",
              "      <th>11</th>\n",
              "      <td>Binayak Tiwari</td>\n",
              "      <td>Resolved</td>\n",
              "      <td>8</td>\n",
              "    </tr>\n",
              "    <tr>\n",
              "      <th>12</th>\n",
              "      <td>Brad Wu</td>\n",
              "      <td>Resolved</td>\n",
              "      <td>7</td>\n",
              "    </tr>\n",
              "    <tr>\n",
              "      <th>13</th>\n",
              "      <td>Cyril Bresch</td>\n",
              "      <td>Resolved</td>\n",
              "      <td>1</td>\n",
              "    </tr>\n",
              "    <tr>\n",
              "      <th>14</th>\n",
              "      <td>Dave Parry</td>\n",
              "      <td>Resolved</td>\n",
              "      <td>1</td>\n",
              "    </tr>\n",
              "    <tr>\n",
              "      <th>15</th>\n",
              "      <td>David Kravitz</td>\n",
              "      <td>Closed</td>\n",
              "      <td>18</td>\n",
              "    </tr>\n",
              "    <tr>\n",
              "      <th>16</th>\n",
              "      <td>David Kravitz</td>\n",
              "      <td>Open</td>\n",
              "      <td>2</td>\n",
              "    </tr>\n",
              "    <tr>\n",
              "      <th>17</th>\n",
              "      <td>David Kravitz</td>\n",
              "      <td>Resolved</td>\n",
              "      <td>11</td>\n",
              "    </tr>\n",
              "    <tr>\n",
              "      <th>18</th>\n",
              "      <td>Deepika S K</td>\n",
              "      <td>Closed</td>\n",
              "      <td>1</td>\n",
              "    </tr>\n",
              "    <tr>\n",
              "      <th>19</th>\n",
              "      <td>Deepika S K</td>\n",
              "      <td>Resolved</td>\n",
              "      <td>1</td>\n",
              "    </tr>\n",
              "    <tr>\n",
              "      <th>20</th>\n",
              "      <td>Erdinc Ozturk</td>\n",
              "      <td>Closed</td>\n",
              "      <td>1</td>\n",
              "    </tr>\n",
              "    <tr>\n",
              "      <th>21</th>\n",
              "      <td>Ishita Shah</td>\n",
              "      <td>Closed</td>\n",
              "      <td>2</td>\n",
              "    </tr>\n",
              "    <tr>\n",
              "      <th>22</th>\n",
              "      <td>Ishita Shah</td>\n",
              "      <td>Resolved</td>\n",
              "      <td>2</td>\n",
              "    </tr>\n",
              "    <tr>\n",
              "      <th>23</th>\n",
              "      <td>Jeffrey Huang</td>\n",
              "      <td>Closed</td>\n",
              "      <td>1</td>\n",
              "    </tr>\n",
              "    <tr>\n",
              "      <th>24</th>\n",
              "      <td>John Ingalls</td>\n",
              "      <td>Closed</td>\n",
              "      <td>50</td>\n",
              "    </tr>\n",
              "    <tr>\n",
              "      <th>25</th>\n",
              "      <td>John Ingalls</td>\n",
              "      <td>Open</td>\n",
              "      <td>1</td>\n",
              "    </tr>\n",
              "    <tr>\n",
              "      <th>26</th>\n",
              "      <td>John Ingalls</td>\n",
              "      <td>Resolved</td>\n",
              "      <td>2</td>\n",
              "    </tr>\n",
              "    <tr>\n",
              "      <th>27</th>\n",
              "      <td>Josh Smith</td>\n",
              "      <td>Closed</td>\n",
              "      <td>7</td>\n",
              "    </tr>\n",
              "    <tr>\n",
              "      <th>28</th>\n",
              "      <td>Josh Smith</td>\n",
              "      <td>Resolved</td>\n",
              "      <td>10</td>\n",
              "    </tr>\n",
              "    <tr>\n",
              "      <th>29</th>\n",
              "      <td>Julian Bailey</td>\n",
              "      <td>Closed</td>\n",
              "      <td>1</td>\n",
              "    </tr>\n",
              "    <tr>\n",
              "      <th>30</th>\n",
              "      <td>Khondakar Mujtaba</td>\n",
              "      <td>Closed</td>\n",
              "      <td>1</td>\n",
              "    </tr>\n",
              "    <tr>\n",
              "      <th>31</th>\n",
              "      <td>Kira Tsao</td>\n",
              "      <td>Closed</td>\n",
              "      <td>6</td>\n",
              "    </tr>\n",
              "    <tr>\n",
              "      <th>32</th>\n",
              "      <td>Kira Tsao</td>\n",
              "      <td>Resolved</td>\n",
              "      <td>17</td>\n",
              "    </tr>\n",
              "    <tr>\n",
              "      <th>33</th>\n",
              "      <td>Krishnendu Patra</td>\n",
              "      <td>Resolved</td>\n",
              "      <td>1</td>\n",
              "    </tr>\n",
              "    <tr>\n",
              "      <th>34</th>\n",
              "      <td>Lance Huang</td>\n",
              "      <td>Resolved</td>\n",
              "      <td>1</td>\n",
              "    </tr>\n",
              "    <tr>\n",
              "      <th>35</th>\n",
              "      <td>Naveen Rathore</td>\n",
              "      <td>Closed</td>\n",
              "      <td>1</td>\n",
              "    </tr>\n",
              "    <tr>\n",
              "      <th>36</th>\n",
              "      <td>Naveen Rathore</td>\n",
              "      <td>Resolved</td>\n",
              "      <td>9</td>\n",
              "    </tr>\n",
              "    <tr>\n",
              "      <th>37</th>\n",
              "      <td>Nicolas Brunie</td>\n",
              "      <td>Closed</td>\n",
              "      <td>9</td>\n",
              "    </tr>\n",
              "    <tr>\n",
              "      <th>38</th>\n",
              "      <td>Nicolas Brunie</td>\n",
              "      <td>In Progress</td>\n",
              "      <td>3</td>\n",
              "    </tr>\n",
              "    <tr>\n",
              "      <th>39</th>\n",
              "      <td>Nicolas Brunie</td>\n",
              "      <td>Resolved</td>\n",
              "      <td>70</td>\n",
              "    </tr>\n",
              "    <tr>\n",
              "      <th>40</th>\n",
              "      <td>Rick Chen</td>\n",
              "      <td>Closed</td>\n",
              "      <td>2</td>\n",
              "    </tr>\n",
              "    <tr>\n",
              "      <th>41</th>\n",
              "      <td>Rick Chen</td>\n",
              "      <td>Resolved</td>\n",
              "      <td>2</td>\n",
              "    </tr>\n",
              "    <tr>\n",
              "      <th>42</th>\n",
              "      <td>Satish Bhavanari</td>\n",
              "      <td>Closed</td>\n",
              "      <td>1</td>\n",
              "    </tr>\n",
              "    <tr>\n",
              "      <th>43</th>\n",
              "      <td>Saurabh Singh</td>\n",
              "      <td>Closed</td>\n",
              "      <td>1</td>\n",
              "    </tr>\n",
              "    <tr>\n",
              "      <th>44</th>\n",
              "      <td>Saurabh Singh</td>\n",
              "      <td>Resolved</td>\n",
              "      <td>5</td>\n",
              "    </tr>\n",
              "    <tr>\n",
              "      <th>45</th>\n",
              "      <td>Shaka Kao</td>\n",
              "      <td>Resolved</td>\n",
              "      <td>2</td>\n",
              "    </tr>\n",
              "    <tr>\n",
              "      <th>46</th>\n",
              "      <td>Srivatsa Yogendra</td>\n",
              "      <td>Closed</td>\n",
              "      <td>6</td>\n",
              "    </tr>\n",
              "    <tr>\n",
              "      <th>47</th>\n",
              "      <td>Steffen Kunze</td>\n",
              "      <td>In Progress</td>\n",
              "      <td>1</td>\n",
              "    </tr>\n",
              "    <tr>\n",
              "      <th>48</th>\n",
              "      <td>Warren Menezes</td>\n",
              "      <td>Closed</td>\n",
              "      <td>1</td>\n",
              "    </tr>\n",
              "    <tr>\n",
              "      <th>49</th>\n",
              "      <td>Warren Menezes</td>\n",
              "      <td>Resolved</td>\n",
              "      <td>2</td>\n",
              "    </tr>\n",
              "    <tr>\n",
              "      <th>50</th>\n",
              "      <td>Yohann Rabefarihy</td>\n",
              "      <td>Closed</td>\n",
              "      <td>3</td>\n",
              "    </tr>\n",
              "    <tr>\n",
              "      <th>51</th>\n",
              "      <td>Yohann Rabefarihy</td>\n",
              "      <td>Open</td>\n",
              "      <td>1</td>\n",
              "    </tr>\n",
              "    <tr>\n",
              "      <th>52</th>\n",
              "      <td>Yohann Rabefarihy</td>\n",
              "      <td>Resolved</td>\n",
              "      <td>9</td>\n",
              "    </tr>\n",
              "  </tbody>\n",
              "</table>\n",
              "</div>\n",
              "      <button class=\"colab-df-convert\" onclick=\"convertToInteractive('df-ced74054-007d-4236-a50b-e566a4444438')\"\n",
              "              title=\"Convert this dataframe to an interactive table.\"\n",
              "              style=\"display:none;\">\n",
              "        \n",
              "  <svg xmlns=\"http://www.w3.org/2000/svg\" height=\"24px\"viewBox=\"0 0 24 24\"\n",
              "       width=\"24px\">\n",
              "    <path d=\"M0 0h24v24H0V0z\" fill=\"none\"/>\n",
              "    <path d=\"M18.56 5.44l.94 2.06.94-2.06 2.06-.94-2.06-.94-.94-2.06-.94 2.06-2.06.94zm-11 1L8.5 8.5l.94-2.06 2.06-.94-2.06-.94L8.5 2.5l-.94 2.06-2.06.94zm10 10l.94 2.06.94-2.06 2.06-.94-2.06-.94-.94-2.06-.94 2.06-2.06.94z\"/><path d=\"M17.41 7.96l-1.37-1.37c-.4-.4-.92-.59-1.43-.59-.52 0-1.04.2-1.43.59L10.3 9.45l-7.72 7.72c-.78.78-.78 2.05 0 2.83L4 21.41c.39.39.9.59 1.41.59.51 0 1.02-.2 1.41-.59l7.78-7.78 2.81-2.81c.8-.78.8-2.07 0-2.86zM5.41 20L4 18.59l7.72-7.72 1.47 1.35L5.41 20z\"/>\n",
              "  </svg>\n",
              "      </button>\n",
              "      \n",
              "  <style>\n",
              "    .colab-df-container {\n",
              "      display:flex;\n",
              "      flex-wrap:wrap;\n",
              "      gap: 12px;\n",
              "    }\n",
              "\n",
              "    .colab-df-convert {\n",
              "      background-color: #E8F0FE;\n",
              "      border: none;\n",
              "      border-radius: 50%;\n",
              "      cursor: pointer;\n",
              "      display: none;\n",
              "      fill: #1967D2;\n",
              "      height: 32px;\n",
              "      padding: 0 0 0 0;\n",
              "      width: 32px;\n",
              "    }\n",
              "\n",
              "    .colab-df-convert:hover {\n",
              "      background-color: #E2EBFA;\n",
              "      box-shadow: 0px 1px 2px rgba(60, 64, 67, 0.3), 0px 1px 3px 1px rgba(60, 64, 67, 0.15);\n",
              "      fill: #174EA6;\n",
              "    }\n",
              "\n",
              "    [theme=dark] .colab-df-convert {\n",
              "      background-color: #3B4455;\n",
              "      fill: #D2E3FC;\n",
              "    }\n",
              "\n",
              "    [theme=dark] .colab-df-convert:hover {\n",
              "      background-color: #434B5C;\n",
              "      box-shadow: 0px 1px 3px 1px rgba(0, 0, 0, 0.15);\n",
              "      filter: drop-shadow(0px 1px 2px rgba(0, 0, 0, 0.3));\n",
              "      fill: #FFFFFF;\n",
              "    }\n",
              "  </style>\n",
              "\n",
              "      <script>\n",
              "        const buttonEl =\n",
              "          document.querySelector('#df-ced74054-007d-4236-a50b-e566a4444438 button.colab-df-convert');\n",
              "        buttonEl.style.display =\n",
              "          google.colab.kernel.accessAllowed ? 'block' : 'none';\n",
              "\n",
              "        async function convertToInteractive(key) {\n",
              "          const element = document.querySelector('#df-ced74054-007d-4236-a50b-e566a4444438');\n",
              "          const dataTable =\n",
              "            await google.colab.kernel.invokeFunction('convertToInteractive',\n",
              "                                                     [key], {});\n",
              "          if (!dataTable) return;\n",
              "\n",
              "          const docLinkHtml = 'Like what you see? Visit the ' +\n",
              "            '<a target=\"_blank\" href=https://colab.research.google.com/notebooks/data_table.ipynb>data table notebook</a>'\n",
              "            + ' to learn more about interactive tables.';\n",
              "          element.innerHTML = '';\n",
              "          dataTable['output_type'] = 'display_data';\n",
              "          await google.colab.output.renderOutput(dataTable, element);\n",
              "          const docLink = document.createElement('div');\n",
              "          docLink.innerHTML = docLinkHtml;\n",
              "          element.appendChild(docLink);\n",
              "        }\n",
              "      </script>\n",
              "    </div>\n",
              "  </div>\n",
              "  "
            ]
          },
          "metadata": {},
          "execution_count": 23
        }
      ]
    },
    {
      "cell_type": "markdown",
      "source": [
        "**Visualizing the differnt Status count for each Assignee**"
      ],
      "metadata": {
        "id": "ZI6s5TkiHQno"
      }
    },
    {
      "cell_type": "code",
      "source": [
        "plt.figure(figsize=(35,10))\n",
        "plt.title(\"Visualization differnt Status count for each Assignee\")\n",
        "plt.xlabel(\"Assignee Names\")\n",
        "plt.ylabel(\"Status count\")\n",
        "sns.countplot(x=\"Assignee\",data=data,hue='Status')"
      ],
      "metadata": {
        "colab": {
          "base_uri": "https://localhost:8080/",
          "height": 370
        },
        "id": "fbdOqOTZHTFa",
        "outputId": "59898e68-c89f-4a0b-afa8-b0b67f935879"
      },
      "execution_count": null,
      "outputs": [
        {
          "output_type": "execute_result",
          "data": {
            "text/plain": [
              "<matplotlib.axes._subplots.AxesSubplot at 0x7fd21b551510>"
            ]
          },
          "metadata": {},
          "execution_count": 24
        },
        {
          "output_type": "display_data",
          "data": {
            "text/plain": [
              "<Figure size 2520x720 with 1 Axes>"
            ],
            "image/png": "[encoded data removed]"
          },
          "metadata": {
            "needs_background": "light"
          }
        }
      ]
    },
    {
      "cell_type": "markdown",
      "source": [
        "**counting the records of each Assignee based on Priority and Status**"
      ],
      "metadata": {
        "id": "461mLXYpHhv-"
      }
    },
    {
      "cell_type": "code",
      "source": [
        "df.groupby(['Assignee','Priority','Status']).size().reset_index()"
      ],
      "metadata": {
        "colab": {
          "base_uri": "https://localhost:8080/",
          "height": 424
        },
        "id": "-mHLY8rgHiyF",
        "outputId": "adcf92be-1dc5-4c9e-db91-eccf92a675e4"
      },
      "execution_count": null,
      "outputs": [
        {
          "output_type": "execute_result",
          "data": {
            "text/plain": [
              "                 Assignee     Priority       Status  0\n",
              "0   Abderrahmane Sensaoui         High  In Progress  1\n",
              "1   Abderrahmane Sensaoui       Medium  In Progress  1\n",
              "2   Abderrahmane Sensaoui       Medium         Open  1\n",
              "3             Adam George         High     Resolved  1\n",
              "4             Adam George          Low     Resolved  2\n",
              "..                    ...          ...          ... ..\n",
              "69      Yohann Rabefarihy          Low     Resolved  3\n",
              "70      Yohann Rabefarihy       Medium       Closed  2\n",
              "71      Yohann Rabefarihy       Medium     Resolved  6\n",
              "72      Yohann Rabefarihy  Showstopper       Closed  1\n",
              "73      Yohann Rabefarihy  Showstopper         Open  1\n",
              "\n",
              "[74 rows x 4 columns]"
            ],
            "text/html": [
              "\n",
              "  <div id=\"df-95011103-224a-4af8-baee-0bb0d3619a3c\">\n",
              "    <div class=\"colab-df-container\">\n",
              "      <div>\n",
              "<style scoped>\n",
              "    .dataframe tbody tr th:only-of-type {\n",
              "        vertical-align: middle;\n",
              "    }\n",
              "\n",
              "    .dataframe tbody tr th {\n",
              "        vertical-align: top;\n",
              "    }\n",
              "\n",
              "    .dataframe thead th {\n",
              "        text-align: right;\n",
              "    }\n",
              "</style>\n",
              "<table border=\"1\" class=\"dataframe\">\n",
              "  <thead>\n",
              "    <tr style=\"text-align: right;\">\n",
              "      <th></th>\n",
              "      <th>Assignee</th>\n",
              "      <th>Priority</th>\n",
              "      <th>Status</th>\n",
              "      <th>0</th>\n",
              "    </tr>\n",
              "  </thead>\n",
              "  <tbody>\n",
              "    <tr>\n",
              "      <th>0</th>\n",
              "      <td>Abderrahmane Sensaoui</td>\n",
              "      <td>High</td>\n",
              "      <td>In Progress</td>\n",
              "      <td>1</td>\n",
              "    </tr>\n",
              "    <tr>\n",
              "      <th>1</th>\n",
              "      <td>Abderrahmane Sensaoui</td>\n",
              "      <td>Medium</td>\n",
              "      <td>In Progress</td>\n",
              "      <td>1</td>\n",
              "    </tr>\n",
              "    <tr>\n",
              "      <th>2</th>\n",
              "      <td>Abderrahmane Sensaoui</td>\n",
              "      <td>Medium</td>\n",
              "      <td>Open</td>\n",
              "      <td>1</td>\n",
              "    </tr>\n",
              "    <tr>\n",
              "      <th>3</th>\n",
              "      <td>Adam George</td>\n",
              "      <td>High</td>\n",
              "      <td>Resolved</td>\n",
              "      <td>1</td>\n",
              "    </tr>\n",
              "    <tr>\n",
              "      <th>4</th>\n",
              "      <td>Adam George</td>\n",
              "      <td>Low</td>\n",
              "      <td>Resolved</td>\n",
              "      <td>2</td>\n",
              "    </tr>\n",
              "    <tr>\n",
              "      <th>...</th>\n",
              "      <td>...</td>\n",
              "      <td>...</td>\n",
              "      <td>...</td>\n",
              "      <td>...</td>\n",
              "    </tr>\n",
              "    <tr>\n",
              "      <th>69</th>\n",
              "      <td>Yohann Rabefarihy</td>\n",
              "      <td>Low</td>\n",
              "      <td>Resolved</td>\n",
              "      <td>3</td>\n",
              "    </tr>\n",
              "    <tr>\n",
              "      <th>70</th>\n",
              "      <td>Yohann Rabefarihy</td>\n",
              "      <td>Medium</td>\n",
              "      <td>Closed</td>\n",
              "      <td>2</td>\n",
              "    </tr>\n",
              "    <tr>\n",
              "      <th>71</th>\n",
              "      <td>Yohann Rabefarihy</td>\n",
              "      <td>Medium</td>\n",
              "      <td>Resolved</td>\n",
              "      <td>6</td>\n",
              "    </tr>\n",
              "    <tr>\n",
              "      <th>72</th>\n",
              "      <td>Yohann Rabefarihy</td>\n",
              "      <td>Showstopper</td>\n",
              "      <td>Closed</td>\n",
              "      <td>1</td>\n",
              "    </tr>\n",
              "    <tr>\n",
              "      <th>73</th>\n",
              "      <td>Yohann Rabefarihy</td>\n",
              "      <td>Showstopper</td>\n",
              "      <td>Open</td>\n",
              "      <td>1</td>\n",
              "    </tr>\n",
              "  </tbody>\n",
              "</table>\n",
              "<p>74 rows × 4 columns</p>\n",
              "</div>\n",
              "      <button class=\"colab-df-convert\" onclick=\"convertToInteractive('df-95011103-224a-4af8-baee-0bb0d3619a3c')\"\n",
              "              title=\"Convert this dataframe to an interactive table.\"\n",
              "              style=\"display:none;\">\n",
              "        \n",
              "  <svg xmlns=\"http://www.w3.org/2000/svg\" height=\"24px\"viewBox=\"0 0 24 24\"\n",
              "       width=\"24px\">\n",
              "    <path d=\"M0 0h24v24H0V0z\" fill=\"none\"/>\n",
              "    <path d=\"M18.56 5.44l.94 2.06.94-2.06 2.06-.94-2.06-.94-.94-2.06-.94 2.06-2.06.94zm-11 1L8.5 8.5l.94-2.06 2.06-.94-2.06-.94L8.5 2.5l-.94 2.06-2.06.94zm10 10l.94 2.06.94-2.06 2.06-.94-2.06-.94-.94-2.06-.94 2.06-2.06.94z\"/><path d=\"M17.41 7.96l-1.37-1.37c-.4-.4-.92-.59-1.43-.59-.52 0-1.04.2-1.43.59L10.3 9.45l-7.72 7.72c-.78.78-.78 2.05 0 2.83L4 21.41c.39.39.9.59 1.41.59.51 0 1.02-.2 1.41-.59l7.78-7.78 2.81-2.81c.8-.78.8-2.07 0-2.86zM5.41 20L4 18.59l7.72-7.72 1.47 1.35L5.41 20z\"/>\n",
              "  </svg>\n",
              "      </button>\n",
              "      \n",
              "  <style>\n",
              "    .colab-df-container {\n",
              "      display:flex;\n",
              "      flex-wrap:wrap;\n",
              "      gap: 12px;\n",
              "    }\n",
              "\n",
              "    .colab-df-convert {\n",
              "      background-color: #E8F0FE;\n",
              "      border: none;\n",
              "      border-radius: 50%;\n",
              "      cursor: pointer;\n",
              "      display: none;\n",
              "      fill: #1967D2;\n",
              "      height: 32px;\n",
              "      padding: 0 0 0 0;\n",
              "      width: 32px;\n",
              "    }\n",
              "\n",
              "    .colab-df-convert:hover {\n",
              "      background-color: #E2EBFA;\n",
              "      box-shadow: 0px 1px 2px rgba(60, 64, 67, 0.3), 0px 1px 3px 1px rgba(60, 64, 67, 0.15);\n",
              "      fill: #174EA6;\n",
              "    }\n",
              "\n",
              "    [theme=dark] .colab-df-convert {\n",
              "      background-color: #3B4455;\n",
              "      fill: #D2E3FC;\n",
              "    }\n",
              "\n",
              "    [theme=dark] .colab-df-convert:hover {\n",
              "      background-color: #434B5C;\n",
              "      box-shadow: 0px 1px 3px 1px rgba(0, 0, 0, 0.15);\n",
              "      filter: drop-shadow(0px 1px 2px rgba(0, 0, 0, 0.3));\n",
              "      fill: #FFFFFF;\n",
              "    }\n",
              "  </style>\n",
              "\n",
              "      <script>\n",
              "        const buttonEl =\n",
              "          document.querySelector('#df-95011103-224a-4af8-baee-0bb0d3619a3c button.colab-df-convert');\n",
              "        buttonEl.style.display =\n",
              "          google.colab.kernel.accessAllowed ? 'block' : 'none';\n",
              "\n",
              "        async function convertToInteractive(key) {\n",
              "          const element = document.querySelector('#df-95011103-224a-4af8-baee-0bb0d3619a3c');\n",
              "          const dataTable =\n",
              "            await google.colab.kernel.invokeFunction('convertToInteractive',\n",
              "                                                     [key], {});\n",
              "          if (!dataTable) return;\n",
              "\n",
              "          const docLinkHtml = 'Like what you see? Visit the ' +\n",
              "            '<a target=\"_blank\" href=https://colab.research.google.com/notebooks/data_table.ipynb>data table notebook</a>'\n",
              "            + ' to learn more about interactive tables.';\n",
              "          element.innerHTML = '';\n",
              "          dataTable['output_type'] = 'display_data';\n",
              "          await google.colab.output.renderOutput(dataTable, element);\n",
              "          const docLink = document.createElement('div');\n",
              "          docLink.innerHTML = docLinkHtml;\n",
              "          element.appendChild(docLink);\n",
              "        }\n",
              "      </script>\n",
              "    </div>\n",
              "  </div>\n",
              "  "
            ]
          },
          "metadata": {},
          "execution_count": 25
        }
      ]
    },
    {
      "cell_type": "markdown",
      "source": [
        "**performing label encoding on Status and Priority column**"
      ],
      "metadata": {
        "id": "kT23sjSQMw0g"
      }
    },
    {
      "cell_type": "code",
      "source": [
        "from sklearn import preprocessing\n",
        "\n",
        "label_encoder = preprocessing.LabelEncoder()\n",
        "data['Status'] = label_encoder.fit_transform(data['Status'])\n",
        "data['Priority'] = label_encoder.fit_transform(data['Priority'])"
      ],
      "metadata": {
        "id": "uRJDGw8cHpIW"
      },
      "execution_count": null,
      "outputs": []
    },
    {
      "cell_type": "markdown",
      "source": [
        "**defining a function to perform one hot encoding**"
      ],
      "metadata": {
        "id": "TVfJtgA3M4tQ"
      }
    },
    {
      "cell_type": "code",
      "source": [
        "def onehot(ft,dataset):\n",
        "    label = [x for x in dataset[ft].value_counts().head(10).index]\n",
        "    for i in label:\n",
        "        dataset[i] = np.where(dataset[ft] ==i,1,0)"
      ],
      "metadata": {
        "id": "MuXVgDeCM6H5"
      },
      "execution_count": null,
      "outputs": []
    },
    {
      "cell_type": "markdown",
      "source": [
        "**performing one hot encoding with many categories on Assignee column**"
      ],
      "metadata": {
        "id": "_Fp7Ajc0NAAA"
      }
    },
    {
      "cell_type": "code",
      "source": [
        "onehot('Assignee',data)"
      ],
      "metadata": {
        "id": "kFevGx1UM-GQ"
      },
      "execution_count": null,
      "outputs": []
    },
    {
      "cell_type": "code",
      "source": [
        "data.head()"
      ],
      "metadata": {
        "colab": {
          "base_uri": "https://localhost:8080/",
          "height": 687
        },
        "id": "ZaWMBvVnNFAA",
        "outputId": "240c96d9-80ea-4b56-8922-02b727894e00"
      },
      "execution_count": null,
      "outputs": [
        {
          "output_type": "execute_result",
          "data": {
            "text/plain": [
              "                                              Summary Issue Type  Status  \\\n",
              "0   LSU FV: Store cross cache misaligned with 2nd ...        Bug       2   \n",
              "1   [TGV] Assertion Failure: ROB Retire Hang aroun...        Bug       1   \n",
              "5   [TGV] complex vrgather deadlock when tail+mask...        Bug       1   \n",
              "7        [TGV] Correlation: Look into vfmerge latency        Bug       1   \n",
              "20  [TGV]:: vsetvli instruction not retaining prev...        Bug       3   \n",
              "\n",
              "    Priority        Assignee          Created  \\\n",
              "0          3    John Ingalls  9/27/2022 20:41   \n",
              "1          3  Nicolas Brunie   9/27/2022 8:07   \n",
              "5          3  Nicolas Brunie   9/27/2022 6:02   \n",
              "7          0  Nicolas Brunie   9/27/2022 3:05   \n",
              "20         3  Nicolas Brunie   9/26/2022 6:50   \n",
              "\n",
              "                                          Description  \\\n",
              "0   Hi John, \\n\\nI am observing a fail for followi...   \n",
              "1   *Debug info* \\nwhile tracing back we find that...   \n",
              "5   *Error::*\\n\\nError: \"/scratch/naverath/sep-27/...   \n",
              "7   According to the miscorrelation study [https:/...   \n",
              "20  *Error::*\\n\\n\\[COSIM-ERROR]\\[0] COSIM VS RTL V...   \n",
              "\n",
              "                                              Comment  Nicolas Brunie  \\\n",
              "0                                                 NaN               0   \n",
              "1   27/Sep/22 8:23 AM;6065017e90e3950069cf01c5;Whi...               1   \n",
              "5   27/Sep/22 8:24 AM;6065017e90e3950069cf01c5;Sim...               1   \n",
              "7   27/Sep/22 3:19 AM;61aaae1d9615eb006f5ff922;[~a...               1   \n",
              "20  26/Sep/22 9:48 AM;6065017e90e3950069cf01c5;I t...               1   \n",
              "\n",
              "    John Ingalls  David Kravitz  Andrew Hanselman  Kira Tsao  Josh Smith  \\\n",
              "0              1              0                 0          0           0   \n",
              "1              0              0                 0          0           0   \n",
              "5              0              0                 0          0           0   \n",
              "7              0              0                 0          0           0   \n",
              "20             0              0                 0          0           0   \n",
              "\n",
              "    Alexandre Solomatnikov  Adam George  Yohann Rabefarihy  Naveen Rathore  \n",
              "0                        0            0                  0               0  \n",
              "1                        0            0                  0               0  \n",
              "5                        0            0                  0               0  \n",
              "7                        0            0                  0               0  \n",
              "20                       0            0                  0               0  "
            ],
            "text/html": [
              "\n",
              "  <div id=\"df-6fef449b-ac4f-4ecb-beb2-6c9aeb5d1ea6\">\n",
              "    <div class=\"colab-df-container\">\n",
              "      <div>\n",
              "<style scoped>\n",
              "    .dataframe tbody tr th:only-of-type {\n",
              "        vertical-align: middle;\n",
              "    }\n",
              "\n",
              "    .dataframe tbody tr th {\n",
              "        vertical-align: top;\n",
              "    }\n",
              "\n",
              "    .dataframe thead th {\n",
              "        text-align: right;\n",
              "    }\n",
              "</style>\n",
              "<table border=\"1\" class=\"dataframe\">\n",
              "  <thead>\n",
              "    <tr style=\"text-align: right;\">\n",
              "      <th></th>\n",
              "      <th>Summary</th>\n",
              "      <th>Issue Type</th>\n",
              "      <th>Status</th>\n",
              "      <th>Priority</th>\n",
              "      <th>Assignee</th>\n",
              "      <th>Created</th>\n",
              "      <th>Description</th>\n",
              "      <th>Comment</th>\n",
              "      <th>Nicolas Brunie</th>\n",
              "      <th>John Ingalls</th>\n",
              "      <th>David Kravitz</th>\n",
              "      <th>Andrew Hanselman</th>\n",
              "      <th>Kira Tsao</th>\n",
              "      <th>Josh Smith</th>\n",
              "      <th>Alexandre Solomatnikov</th>\n",
              "      <th>Adam George</th>\n",
              "      <th>Yohann Rabefarihy</th>\n",
              "      <th>Naveen Rathore</th>\n",
              "    </tr>\n",
              "  </thead>\n",
              "  <tbody>\n",
              "    <tr>\n",
              "      <th>0</th>\n",
              "      <td>LSU FV: Store cross cache misaligned with 2nd ...</td>\n",
              "      <td>Bug</td>\n",
              "      <td>2</td>\n",
              "      <td>3</td>\n",
              "      <td>John Ingalls</td>\n",
              "      <td>9/27/2022 20:41</td>\n",
              "      <td>Hi John, \\n\\nI am observing a fail for followi...</td>\n",
              "      <td>NaN</td>\n",
              "      <td>0</td>\n",
              "      <td>1</td>\n",
              "      <td>0</td>\n",
              "      <td>0</td>\n",
              "      <td>0</td>\n",
              "      <td>0</td>\n",
              "      <td>0</td>\n",
              "      <td>0</td>\n",
              "      <td>0</td>\n",
              "      <td>0</td>\n",
              "    </tr>\n",
              "    <tr>\n",
              "      <th>1</th>\n",
              "      <td>[TGV] Assertion Failure: ROB Retire Hang aroun...</td>\n",
              "      <td>Bug</td>\n",
              "      <td>1</td>\n",
              "      <td>3</td>\n",
              "      <td>Nicolas Brunie</td>\n",
              "      <td>9/27/2022 8:07</td>\n",
              "      <td>*Debug info* \\nwhile tracing back we find that...</td>\n",
              "      <td>27/Sep/22 8:23 AM;6065017e90e3950069cf01c5;Whi...</td>\n",
              "      <td>1</td>\n",
              "      <td>0</td>\n",
              "      <td>0</td>\n",
              "      <td>0</td>\n",
              "      <td>0</td>\n",
              "      <td>0</td>\n",
              "      <td>0</td>\n",
              "      <td>0</td>\n",
              "      <td>0</td>\n",
              "      <td>0</td>\n",
              "    </tr>\n",
              "    <tr>\n",
              "      <th>5</th>\n",
              "      <td>[TGV] complex vrgather deadlock when tail+mask...</td>\n",
              "      <td>Bug</td>\n",
              "      <td>1</td>\n",
              "      <td>3</td>\n",
              "      <td>Nicolas Brunie</td>\n",
              "      <td>9/27/2022 6:02</td>\n",
              "      <td>*Error::*\\n\\nError: \"/scratch/naverath/sep-27/...</td>\n",
              "      <td>27/Sep/22 8:24 AM;6065017e90e3950069cf01c5;Sim...</td>\n",
              "      <td>1</td>\n",
              "      <td>0</td>\n",
              "      <td>0</td>\n",
              "      <td>0</td>\n",
              "      <td>0</td>\n",
              "      <td>0</td>\n",
              "      <td>0</td>\n",
              "      <td>0</td>\n",
              "      <td>0</td>\n",
              "      <td>0</td>\n",
              "    </tr>\n",
              "    <tr>\n",
              "      <th>7</th>\n",
              "      <td>[TGV] Correlation: Look into vfmerge latency</td>\n",
              "      <td>Bug</td>\n",
              "      <td>1</td>\n",
              "      <td>0</td>\n",
              "      <td>Nicolas Brunie</td>\n",
              "      <td>9/27/2022 3:05</td>\n",
              "      <td>According to the miscorrelation study [https:/...</td>\n",
              "      <td>27/Sep/22 3:19 AM;61aaae1d9615eb006f5ff922;[~a...</td>\n",
              "      <td>1</td>\n",
              "      <td>0</td>\n",
              "      <td>0</td>\n",
              "      <td>0</td>\n",
              "      <td>0</td>\n",
              "      <td>0</td>\n",
              "      <td>0</td>\n",
              "      <td>0</td>\n",
              "      <td>0</td>\n",
              "      <td>0</td>\n",
              "    </tr>\n",
              "    <tr>\n",
              "      <th>20</th>\n",
              "      <td>[TGV]:: vsetvli instruction not retaining prev...</td>\n",
              "      <td>Bug</td>\n",
              "      <td>3</td>\n",
              "      <td>3</td>\n",
              "      <td>Nicolas Brunie</td>\n",
              "      <td>9/26/2022 6:50</td>\n",
              "      <td>*Error::*\\n\\n\\[COSIM-ERROR]\\[0] COSIM VS RTL V...</td>\n",
              "      <td>26/Sep/22 9:48 AM;6065017e90e3950069cf01c5;I t...</td>\n",
              "      <td>1</td>\n",
              "      <td>0</td>\n",
              "      <td>0</td>\n",
              "      <td>0</td>\n",
              "      <td>0</td>\n",
              "      <td>0</td>\n",
              "      <td>0</td>\n",
              "      <td>0</td>\n",
              "      <td>0</td>\n",
              "      <td>0</td>\n",
              "    </tr>\n",
              "  </tbody>\n",
              "</table>\n",
              "</div>\n",
              "      <button class=\"colab-df-convert\" onclick=\"convertToInteractive('df-6fef449b-ac4f-4ecb-beb2-6c9aeb5d1ea6')\"\n",
              "              title=\"Convert this dataframe to an interactive table.\"\n",
              "              style=\"display:none;\">\n",
              "        \n",
              "  <svg xmlns=\"http://www.w3.org/2000/svg\" height=\"24px\"viewBox=\"0 0 24 24\"\n",
              "       width=\"24px\">\n",
              "    <path d=\"M0 0h24v24H0V0z\" fill=\"none\"/>\n",
              "    <path d=\"M18.56 5.44l.94 2.06.94-2.06 2.06-.94-2.06-.94-.94-2.06-.94 2.06-2.06.94zm-11 1L8.5 8.5l.94-2.06 2.06-.94-2.06-.94L8.5 2.5l-.94 2.06-2.06.94zm10 10l.94 2.06.94-2.06 2.06-.94-2.06-.94-.94-2.06-.94 2.06-2.06.94z\"/><path d=\"M17.41 7.96l-1.37-1.37c-.4-.4-.92-.59-1.43-.59-.52 0-1.04.2-1.43.59L10.3 9.45l-7.72 7.72c-.78.78-.78 2.05 0 2.83L4 21.41c.39.39.9.59 1.41.59.51 0 1.02-.2 1.41-.59l7.78-7.78 2.81-2.81c.8-.78.8-2.07 0-2.86zM5.41 20L4 18.59l7.72-7.72 1.47 1.35L5.41 20z\"/>\n",
              "  </svg>\n",
              "      </button>\n",
              "      \n",
              "  <style>\n",
              "    .colab-df-container {\n",
              "      display:flex;\n",
              "      flex-wrap:wrap;\n",
              "      gap: 12px;\n",
              "    }\n",
              "\n",
              "    .colab-df-convert {\n",
              "      background-color: #E8F0FE;\n",
              "      border: none;\n",
              "      border-radius: 50%;\n",
              "      cursor: pointer;\n",
              "      display: none;\n",
              "      fill: #1967D2;\n",
              "      height: 32px;\n",
              "      padding: 0 0 0 0;\n",
              "      width: 32px;\n",
              "    }\n",
              "\n",
              "    .colab-df-convert:hover {\n",
              "      background-color: #E2EBFA;\n",
              "      box-shadow: 0px 1px 2px rgba(60, 64, 67, 0.3), 0px 1px 3px 1px rgba(60, 64, 67, 0.15);\n",
              "      fill: #174EA6;\n",
              "    }\n",
              "\n",
              "    [theme=dark] .colab-df-convert {\n",
              "      background-color: #3B4455;\n",
              "      fill: #D2E3FC;\n",
              "    }\n",
              "\n",
              "    [theme=dark] .colab-df-convert:hover {\n",
              "      background-color: #434B5C;\n",
              "      box-shadow: 0px 1px 3px 1px rgba(0, 0, 0, 0.15);\n",
              "      filter: drop-shadow(0px 1px 2px rgba(0, 0, 0, 0.3));\n",
              "      fill: #FFFFFF;\n",
              "    }\n",
              "  </style>\n",
              "\n",
              "      <script>\n",
              "        const buttonEl =\n",
              "          document.querySelector('#df-6fef449b-ac4f-4ecb-beb2-6c9aeb5d1ea6 button.colab-df-convert');\n",
              "        buttonEl.style.display =\n",
              "          google.colab.kernel.accessAllowed ? 'block' : 'none';\n",
              "\n",
              "        async function convertToInteractive(key) {\n",
              "          const element = document.querySelector('#df-6fef449b-ac4f-4ecb-beb2-6c9aeb5d1ea6');\n",
              "          const dataTable =\n",
              "            await google.colab.kernel.invokeFunction('convertToInteractive',\n",
              "                                                     [key], {});\n",
              "          if (!dataTable) return;\n",
              "\n",
              "          const docLinkHtml = 'Like what you see? Visit the ' +\n",
              "            '<a target=\"_blank\" href=https://colab.research.google.com/notebooks/data_table.ipynb>data table notebook</a>'\n",
              "            + ' to learn more about interactive tables.';\n",
              "          element.innerHTML = '';\n",
              "          dataTable['output_type'] = 'display_data';\n",
              "          await google.colab.output.renderOutput(dataTable, element);\n",
              "          const docLink = document.createElement('div');\n",
              "          docLink.innerHTML = docLinkHtml;\n",
              "          element.appendChild(docLink);\n",
              "        }\n",
              "      </script>\n",
              "    </div>\n",
              "  </div>\n",
              "  "
            ]
          },
          "metadata": {},
          "execution_count": 29
        }
      ]
    },
    {
      "cell_type": "code",
      "source": [
        "data.columns"
      ],
      "metadata": {
        "colab": {
          "base_uri": "https://localhost:8080/"
        },
        "id": "gPflOK1zNK5Y",
        "outputId": "18317764-be6f-48d5-d342-248b043d75db"
      },
      "execution_count": null,
      "outputs": [
        {
          "output_type": "execute_result",
          "data": {
            "text/plain": [
              "Index(['Summary', 'Issue Type', 'Status', 'Priority', 'Assignee', 'Created',\n",
              "       'Description', 'Comment', 'Nicolas Brunie', 'John Ingalls',\n",
              "       'David Kravitz', 'Andrew Hanselman', 'Kira Tsao', 'Josh Smith',\n",
              "       'Alexandre Solomatnikov', 'Adam George', 'Yohann Rabefarihy',\n",
              "       'Naveen Rathore'],\n",
              "      dtype='object')"
            ]
          },
          "metadata": {},
          "execution_count": 30
        }
      ]
    },
    {
      "cell_type": "markdown",
      "source": [
        "**Reading the Created column**"
      ],
      "metadata": {
        "id": "MlGsd3DUNOEA"
      }
    },
    {
      "cell_type": "code",
      "source": [
        "data['Created']"
      ],
      "metadata": {
        "colab": {
          "base_uri": "https://localhost:8080/"
        },
        "id": "qvXDdZWzNNlA",
        "outputId": "261ca1a3-b954-4a4e-cfe0-09ed0138de7a"
      },
      "execution_count": null,
      "outputs": [
        {
          "output_type": "execute_result",
          "data": {
            "text/plain": [
              "0      9/27/2022 20:41\n",
              "1       9/27/2022 8:07\n",
              "5       9/27/2022 6:02\n",
              "7       9/27/2022 3:05\n",
              "20      9/26/2022 6:50\n",
              "            ...       \n",
              "992    3/14/2022 14:35\n",
              "993    3/14/2022 13:37\n",
              "995     3/11/2022 8:55\n",
              "996    3/10/2022 17:27\n",
              "999      3/9/2022 9:21\n",
              "Name: Created, Length: 340, dtype: object"
            ]
          },
          "metadata": {},
          "execution_count": 31
        }
      ]
    },
    {
      "cell_type": "markdown",
      "source": [
        "**Extracting the Date and Time from created column and storing them in Date and Created_Time column**"
      ],
      "metadata": {
        "id": "lncs4IF2NTfw"
      }
    },
    {
      "cell_type": "code",
      "source": [
        "data['Date'] = pd.to_datetime(data['Created']).dt.date\n",
        "data['Creatd_Time'] = pd.to_datetime(data['Created']).dt.time"
      ],
      "metadata": {
        "id": "FRZm1O4DNQmu"
      },
      "execution_count": null,
      "outputs": []
    },
    {
      "cell_type": "code",
      "source": [
        "data['Date']"
      ],
      "metadata": {
        "colab": {
          "base_uri": "https://localhost:8080/"
        },
        "id": "nFCyANk4NWU6",
        "outputId": "55e57b5c-ad0d-4384-e88e-599a209b2171"
      },
      "execution_count": null,
      "outputs": [
        {
          "output_type": "execute_result",
          "data": {
            "text/plain": [
              "0      2022-09-27\n",
              "1      2022-09-27\n",
              "5      2022-09-27\n",
              "7      2022-09-27\n",
              "20     2022-09-26\n",
              "          ...    \n",
              "992    2022-03-14\n",
              "993    2022-03-14\n",
              "995    2022-03-11\n",
              "996    2022-03-10\n",
              "999    2022-03-09\n",
              "Name: Date, Length: 340, dtype: object"
            ]
          },
          "metadata": {},
          "execution_count": 33
        }
      ]
    },
    {
      "cell_type": "code",
      "source": [
        "from datetime import datetime as dt"
      ],
      "metadata": {
        "id": "oTaCnd0VNlLH"
      },
      "execution_count": null,
      "outputs": []
    },
    {
      "cell_type": "code",
      "source": [
        "data['Creatd_Time']"
      ],
      "metadata": {
        "colab": {
          "base_uri": "https://localhost:8080/"
        },
        "id": "wBDEbz8DNnjw",
        "outputId": "2c8775d1-81e4-49b3-8da9-0d21693624e5"
      },
      "execution_count": null,
      "outputs": [
        {
          "output_type": "execute_result",
          "data": {
            "text/plain": [
              "0      20:41:00\n",
              "1      08:07:00\n",
              "5      06:02:00\n",
              "7      03:05:00\n",
              "20     06:50:00\n",
              "         ...   \n",
              "992    14:35:00\n",
              "993    13:37:00\n",
              "995    08:55:00\n",
              "996    17:27:00\n",
              "999    09:21:00\n",
              "Name: Creatd_Time, Length: 340, dtype: object"
            ]
          },
          "metadata": {},
          "execution_count": 35
        }
      ]
    },
    {
      "cell_type": "markdown",
      "source": [
        "**Extraacting the Day and Month from Date column**"
      ],
      "metadata": {
        "id": "--XQpBQiNseh"
      }
    },
    {
      "cell_type": "code",
      "source": [
        "data[\"created_day\"] = pd.to_datetime(data.Date, format=\"%Y-%m-%d\").dt.day\n",
        "data[\"created_month\"] = pd.to_datetime(data.Date, format=\"%Y-%m-%d\").dt.month"
      ],
      "metadata": {
        "id": "GvFJsSjiNtg1"
      },
      "execution_count": null,
      "outputs": []
    },
    {
      "cell_type": "code",
      "source": [
        "data"
      ],
      "metadata": {
        "colab": {
          "base_uri": "https://localhost:8080/",
          "height": 1000
        },
        "id": "LvIPysSkNyA4",
        "outputId": "cbaa8708-2893-4484-9844-115dee662027"
      },
      "execution_count": null,
      "outputs": [
        {
          "output_type": "execute_result",
          "data": {
            "text/plain": [
              "                                               Summary Issue Type  Status  \\\n",
              "0    LSU FV: Store cross cache misaligned with 2nd ...        Bug       2   \n",
              "1    [TGV] Assertion Failure: ROB Retire Hang aroun...        Bug       1   \n",
              "5    [TGV] complex vrgather deadlock when tail+mask...        Bug       1   \n",
              "7         [TGV] Correlation: Look into vfmerge latency        Bug       1   \n",
              "20   [TGV]:: vsetvli instruction not retaining prev...        Bug       3   \n",
              "..                                                 ...        ...     ...   \n",
              "992  [TGV] In correct slide operation popping up again        Bug       3   \n",
              "993  VMV.x.s copying 64 bits instead of 32 bits of ...        Bug       3   \n",
              "995  Assertion issue regarding check while Mallard ...        Bug       3   \n",
              "996  [TGV] Sequencer credit count assertion on u8_m...        Bug       0   \n",
              "999  [TGV] invalid value for fwdCtl.pipeSel inside ...        Bug       3   \n",
              "\n",
              "     Priority                Assignee          Created  \\\n",
              "0           3            John Ingalls  9/27/2022 20:41   \n",
              "1           3          Nicolas Brunie   9/27/2022 8:07   \n",
              "5           3          Nicolas Brunie   9/27/2022 6:02   \n",
              "7           0          Nicolas Brunie   9/27/2022 3:05   \n",
              "20          3          Nicolas Brunie   9/26/2022 6:50   \n",
              "..        ...                     ...              ...   \n",
              "992         3              Josh Smith  3/14/2022 14:35   \n",
              "993         3              Josh Smith  3/14/2022 13:37   \n",
              "995         3              Josh Smith   3/11/2022 8:55   \n",
              "996         3  Alexandre Solomatnikov  3/10/2022 17:27   \n",
              "999         3          Nicolas Brunie    3/9/2022 9:21   \n",
              "\n",
              "                                           Description  \\\n",
              "0    Hi John, \\n\\nI am observing a fail for followi...   \n",
              "1    *Debug info* \\nwhile tracing back we find that...   \n",
              "5    *Error::*\\n\\nError: \"/scratch/naverath/sep-27/...   \n",
              "7    According to the miscorrelation study [https:/...   \n",
              "20   *Error::*\\n\\n\\[COSIM-ERROR]\\[0] COSIM VS RTL V...   \n",
              "..                                                 ...   \n",
              "992  I see incorrect slide of data happening on, vs...   \n",
              "993  I see vmv.s.x moving 64 bits of data to the sc...   \n",
              "995  The RDU in Mallard has an assertion to check t...   \n",
              "996  m running into an assertion, when we are initi...   \n",
              "999  The following line is generated in a different...   \n",
              "\n",
              "                                               Comment  Nicolas Brunie  \\\n",
              "0                                                  NaN               0   \n",
              "1    27/Sep/22 8:23 AM;6065017e90e3950069cf01c5;Whi...               1   \n",
              "5    27/Sep/22 8:24 AM;6065017e90e3950069cf01c5;Sim...               1   \n",
              "7    27/Sep/22 3:19 AM;61aaae1d9615eb006f5ff922;[~a...               1   \n",
              "20   26/Sep/22 9:48 AM;6065017e90e3950069cf01c5;I t...               1   \n",
              "..                                                 ...             ...   \n",
              "992  15/Mar/22 6:28 AM;5fd15143b4a74900763834e0;Ass...               0   \n",
              "993  14/Mar/22 3:17 PM;5fd15143b4a74900763834e0;I n...               0   \n",
              "995  15/Mar/22 3:55 PM;5acffeafaa802f2a797a955c;Mer...               0   \n",
              "996  15/Mar/22 12:49 PM;557058:e51f5c3d-42d7-403f-9...               0   \n",
              "999  09/Mar/22 10:05 AM;6065017e90e3950069cf01c5;Is...               1   \n",
              "\n",
              "     John Ingalls  ...  Kira Tsao  Josh Smith  Alexandre Solomatnikov  \\\n",
              "0               1  ...          0           0                       0   \n",
              "1               0  ...          0           0                       0   \n",
              "5               0  ...          0           0                       0   \n",
              "7               0  ...          0           0                       0   \n",
              "20              0  ...          0           0                       0   \n",
              "..            ...  ...        ...         ...                     ...   \n",
              "992             0  ...          0           1                       0   \n",
              "993             0  ...          0           1                       0   \n",
              "995             0  ...          0           1                       0   \n",
              "996             0  ...          0           0                       1   \n",
              "999             0  ...          0           0                       0   \n",
              "\n",
              "     Adam George  Yohann Rabefarihy  Naveen Rathore        Date  Creatd_Time  \\\n",
              "0              0                  0               0  2022-09-27     20:41:00   \n",
              "1              0                  0               0  2022-09-27     08:07:00   \n",
              "5              0                  0               0  2022-09-27     06:02:00   \n",
              "7              0                  0               0  2022-09-27     03:05:00   \n",
              "20             0                  0               0  2022-09-26     06:50:00   \n",
              "..           ...                ...             ...         ...          ...   \n",
              "992            0                  0               0  2022-03-14     14:35:00   \n",
              "993            0                  0               0  2022-03-14     13:37:00   \n",
              "995            0                  0               0  2022-03-11     08:55:00   \n",
              "996            0                  0               0  2022-03-10     17:27:00   \n",
              "999            0                  0               0  2022-03-09     09:21:00   \n",
              "\n",
              "    created_day created_month  \n",
              "0            27             9  \n",
              "1            27             9  \n",
              "5            27             9  \n",
              "7            27             9  \n",
              "20           26             9  \n",
              "..          ...           ...  \n",
              "992          14             3  \n",
              "993          14             3  \n",
              "995          11             3  \n",
              "996          10             3  \n",
              "999           9             3  \n",
              "\n",
              "[340 rows x 22 columns]"
            ],
            "text/html": [
              "\n",
              "  <div id=\"df-68dfc714-1a1b-4fd7-994c-d2db3a64573c\">\n",
              "    <div class=\"colab-df-container\">\n",
              "      <div>\n",
              "<style scoped>\n",
              "    .dataframe tbody tr th:only-of-type {\n",
              "        vertical-align: middle;\n",
              "    }\n",
              "\n",
              "    .dataframe tbody tr th {\n",
              "        vertical-align: top;\n",
              "    }\n",
              "\n",
              "    .dataframe thead th {\n",
              "        text-align: right;\n",
              "    }\n",
              "</style>\n",
              "<table border=\"1\" class=\"dataframe\">\n",
              "  <thead>\n",
              "    <tr style=\"text-align: right;\">\n",
              "      <th></th>\n",
              "      <th>Summary</th>\n",
              "      <th>Issue Type</th>\n",
              "      <th>Status</th>\n",
              "      <th>Priority</th>\n",
              "      <th>Assignee</th>\n",
              "      <th>Created</th>\n",
              "      <th>Description</th>\n",
              "      <th>Comment</th>\n",
              "      <th>Nicolas Brunie</th>\n",
              "      <th>John Ingalls</th>\n",
              "      <th>...</th>\n",
              "      <th>Kira Tsao</th>\n",
              "      <th>Josh Smith</th>\n",
              "      <th>Alexandre Solomatnikov</th>\n",
              "      <th>Adam George</th>\n",
              "      <th>Yohann Rabefarihy</th>\n",
              "      <th>Naveen Rathore</th>\n",
              "      <th>Date</th>\n",
              "      <th>Creatd_Time</th>\n",
              "      <th>created_day</th>\n",
              "      <th>created_month</th>\n",
              "    </tr>\n",
              "  </thead>\n",
              "  <tbody>\n",
              "    <tr>\n",
              "      <th>0</th>\n",
              "      <td>LSU FV: Store cross cache misaligned with 2nd ...</td>\n",
              "      <td>Bug</td>\n",
              "      <td>2</td>\n",
              "      <td>3</td>\n",
              "      <td>John Ingalls</td>\n",
              "      <td>9/27/2022 20:41</td>\n",
              "      <td>Hi John, \\n\\nI am observing a fail for followi...</td>\n",
              "      <td>NaN</td>\n",
              "      <td>0</td>\n",
              "      <td>1</td>\n",
              "      <td>...</td>\n",
              "      <td>0</td>\n",
              "      <td>0</td>\n",
              "      <td>0</td>\n",
              "      <td>0</td>\n",
              "      <td>0</td>\n",
              "      <td>0</td>\n",
              "      <td>2022-09-27</td>\n",
              "      <td>20:41:00</td>\n",
              "      <td>27</td>\n",
              "      <td>9</td>\n",
              "    </tr>\n",
              "    <tr>\n",
              "      <th>1</th>\n",
              "      <td>[TGV] Assertion Failure: ROB Retire Hang aroun...</td>\n",
              "      <td>Bug</td>\n",
              "      <td>1</td>\n",
              "      <td>3</td>\n",
              "      <td>Nicolas Brunie</td>\n",
              "      <td>9/27/2022 8:07</td>\n",
              "      <td>*Debug info* \\nwhile tracing back we find that...</td>\n",
              "      <td>27/Sep/22 8:23 AM;6065017e90e3950069cf01c5;Whi...</td>\n",
              "      <td>1</td>\n",
              "      <td>0</td>\n",
              "      <td>...</td>\n",
              "      <td>0</td>\n",
              "      <td>0</td>\n",
              "      <td>0</td>\n",
              "      <td>0</td>\n",
              "      <td>0</td>\n",
              "      <td>0</td>\n",
              "      <td>2022-09-27</td>\n",
              "      <td>08:07:00</td>\n",
              "      <td>27</td>\n",
              "      <td>9</td>\n",
              "    </tr>\n",
              "    <tr>\n",
              "      <th>5</th>\n",
              "      <td>[TGV] complex vrgather deadlock when tail+mask...</td>\n",
              "      <td>Bug</td>\n",
              "      <td>1</td>\n",
              "      <td>3</td>\n",
              "      <td>Nicolas Brunie</td>\n",
              "      <td>9/27/2022 6:02</td>\n",
              "      <td>*Error::*\\n\\nError: \"/scratch/naverath/sep-27/...</td>\n",
              "      <td>27/Sep/22 8:24 AM;6065017e90e3950069cf01c5;Sim...</td>\n",
              "      <td>1</td>\n",
              "      <td>0</td>\n",
              "      <td>...</td>\n",
              "      <td>0</td>\n",
              "      <td>0</td>\n",
              "      <td>0</td>\n",
              "      <td>0</td>\n",
              "      <td>0</td>\n",
              "      <td>0</td>\n",
              "      <td>2022-09-27</td>\n",
              "      <td>06:02:00</td>\n",
              "      <td>27</td>\n",
              "      <td>9</td>\n",
              "    </tr>\n",
              "    <tr>\n",
              "      <th>7</th>\n",
              "      <td>[TGV] Correlation: Look into vfmerge latency</td>\n",
              "      <td>Bug</td>\n",
              "      <td>1</td>\n",
              "      <td>0</td>\n",
              "      <td>Nicolas Brunie</td>\n",
              "      <td>9/27/2022 3:05</td>\n",
              "      <td>According to the miscorrelation study [https:/...</td>\n",
              "      <td>27/Sep/22 3:19 AM;61aaae1d9615eb006f5ff922;[~a...</td>\n",
              "      <td>1</td>\n",
              "      <td>0</td>\n",
              "      <td>...</td>\n",
              "      <td>0</td>\n",
              "      <td>0</td>\n",
              "      <td>0</td>\n",
              "      <td>0</td>\n",
              "      <td>0</td>\n",
              "      <td>0</td>\n",
              "      <td>2022-09-27</td>\n",
              "      <td>03:05:00</td>\n",
              "      <td>27</td>\n",
              "      <td>9</td>\n",
              "    </tr>\n",
              "    <tr>\n",
              "      <th>20</th>\n",
              "      <td>[TGV]:: vsetvli instruction not retaining prev...</td>\n",
              "      <td>Bug</td>\n",
              "      <td>3</td>\n",
              "      <td>3</td>\n",
              "      <td>Nicolas Brunie</td>\n",
              "      <td>9/26/2022 6:50</td>\n",
              "      <td>*Error::*\\n\\n\\[COSIM-ERROR]\\[0] COSIM VS RTL V...</td>\n",
              "      <td>26/Sep/22 9:48 AM;6065017e90e3950069cf01c5;I t...</td>\n",
              "      <td>1</td>\n",
              "      <td>0</td>\n",
              "      <td>...</td>\n",
              "      <td>0</td>\n",
              "      <td>0</td>\n",
              "      <td>0</td>\n",
              "      <td>0</td>\n",
              "      <td>0</td>\n",
              "      <td>0</td>\n",
              "      <td>2022-09-26</td>\n",
              "      <td>06:50:00</td>\n",
              "      <td>26</td>\n",
              "      <td>9</td>\n",
              "    </tr>\n",
              "    <tr>\n",
              "      <th>...</th>\n",
              "      <td>...</td>\n",
              "      <td>...</td>\n",
              "      <td>...</td>\n",
              "      <td>...</td>\n",
              "      <td>...</td>\n",
              "      <td>...</td>\n",
              "      <td>...</td>\n",
              "      <td>...</td>\n",
              "      <td>...</td>\n",
              "      <td>...</td>\n",
              "      <td>...</td>\n",
              "      <td>...</td>\n",
              "      <td>...</td>\n",
              "      <td>...</td>\n",
              "      <td>...</td>\n",
              "      <td>...</td>\n",
              "      <td>...</td>\n",
              "      <td>...</td>\n",
              "      <td>...</td>\n",
              "      <td>...</td>\n",
              "      <td>...</td>\n",
              "    </tr>\n",
              "    <tr>\n",
              "      <th>992</th>\n",
              "      <td>[TGV] In correct slide operation popping up again</td>\n",
              "      <td>Bug</td>\n",
              "      <td>3</td>\n",
              "      <td>3</td>\n",
              "      <td>Josh Smith</td>\n",
              "      <td>3/14/2022 14:35</td>\n",
              "      <td>I see incorrect slide of data happening on, vs...</td>\n",
              "      <td>15/Mar/22 6:28 AM;5fd15143b4a74900763834e0;Ass...</td>\n",
              "      <td>0</td>\n",
              "      <td>0</td>\n",
              "      <td>...</td>\n",
              "      <td>0</td>\n",
              "      <td>1</td>\n",
              "      <td>0</td>\n",
              "      <td>0</td>\n",
              "      <td>0</td>\n",
              "      <td>0</td>\n",
              "      <td>2022-03-14</td>\n",
              "      <td>14:35:00</td>\n",
              "      <td>14</td>\n",
              "      <td>3</td>\n",
              "    </tr>\n",
              "    <tr>\n",
              "      <th>993</th>\n",
              "      <td>VMV.x.s copying 64 bits instead of 32 bits of ...</td>\n",
              "      <td>Bug</td>\n",
              "      <td>3</td>\n",
              "      <td>3</td>\n",
              "      <td>Josh Smith</td>\n",
              "      <td>3/14/2022 13:37</td>\n",
              "      <td>I see vmv.s.x moving 64 bits of data to the sc...</td>\n",
              "      <td>14/Mar/22 3:17 PM;5fd15143b4a74900763834e0;I n...</td>\n",
              "      <td>0</td>\n",
              "      <td>0</td>\n",
              "      <td>...</td>\n",
              "      <td>0</td>\n",
              "      <td>1</td>\n",
              "      <td>0</td>\n",
              "      <td>0</td>\n",
              "      <td>0</td>\n",
              "      <td>0</td>\n",
              "      <td>2022-03-14</td>\n",
              "      <td>13:37:00</td>\n",
              "      <td>14</td>\n",
              "      <td>3</td>\n",
              "    </tr>\n",
              "    <tr>\n",
              "      <th>995</th>\n",
              "      <td>Assertion issue regarding check while Mallard ...</td>\n",
              "      <td>Bug</td>\n",
              "      <td>3</td>\n",
              "      <td>3</td>\n",
              "      <td>Josh Smith</td>\n",
              "      <td>3/11/2022 8:55</td>\n",
              "      <td>The RDU in Mallard has an assertion to check t...</td>\n",
              "      <td>15/Mar/22 3:55 PM;5acffeafaa802f2a797a955c;Mer...</td>\n",
              "      <td>0</td>\n",
              "      <td>0</td>\n",
              "      <td>...</td>\n",
              "      <td>0</td>\n",
              "      <td>1</td>\n",
              "      <td>0</td>\n",
              "      <td>0</td>\n",
              "      <td>0</td>\n",
              "      <td>0</td>\n",
              "      <td>2022-03-11</td>\n",
              "      <td>08:55:00</td>\n",
              "      <td>11</td>\n",
              "      <td>3</td>\n",
              "    </tr>\n",
              "    <tr>\n",
              "      <th>996</th>\n",
              "      <td>[TGV] Sequencer credit count assertion on u8_m...</td>\n",
              "      <td>Bug</td>\n",
              "      <td>0</td>\n",
              "      <td>3</td>\n",
              "      <td>Alexandre Solomatnikov</td>\n",
              "      <td>3/10/2022 17:27</td>\n",
              "      <td>m running into an assertion, when we are initi...</td>\n",
              "      <td>15/Mar/22 12:49 PM;557058:e51f5c3d-42d7-403f-9...</td>\n",
              "      <td>0</td>\n",
              "      <td>0</td>\n",
              "      <td>...</td>\n",
              "      <td>0</td>\n",
              "      <td>0</td>\n",
              "      <td>1</td>\n",
              "      <td>0</td>\n",
              "      <td>0</td>\n",
              "      <td>0</td>\n",
              "      <td>2022-03-10</td>\n",
              "      <td>17:27:00</td>\n",
              "      <td>10</td>\n",
              "      <td>3</td>\n",
              "    </tr>\n",
              "    <tr>\n",
              "      <th>999</th>\n",
              "      <td>[TGV] invalid value for fwdCtl.pipeSel inside ...</td>\n",
              "      <td>Bug</td>\n",
              "      <td>3</td>\n",
              "      <td>3</td>\n",
              "      <td>Nicolas Brunie</td>\n",
              "      <td>3/9/2022 9:21</td>\n",
              "      <td>The following line is generated in a different...</td>\n",
              "      <td>09/Mar/22 10:05 AM;6065017e90e3950069cf01c5;Is...</td>\n",
              "      <td>1</td>\n",
              "      <td>0</td>\n",
              "      <td>...</td>\n",
              "      <td>0</td>\n",
              "      <td>0</td>\n",
              "      <td>0</td>\n",
              "      <td>0</td>\n",
              "      <td>0</td>\n",
              "      <td>0</td>\n",
              "      <td>2022-03-09</td>\n",
              "      <td>09:21:00</td>\n",
              "      <td>9</td>\n",
              "      <td>3</td>\n",
              "    </tr>\n",
              "  </tbody>\n",
              "</table>\n",
              "<p>340 rows × 22 columns</p>\n",
              "</div>\n",
              "      <button class=\"colab-df-convert\" onclick=\"convertToInteractive('df-68dfc714-1a1b-4fd7-994c-d2db3a64573c')\"\n",
              "              title=\"Convert this dataframe to an interactive table.\"\n",
              "              style=\"display:none;\">\n",
              "        \n",
              "  <svg xmlns=\"http://www.w3.org/2000/svg\" height=\"24px\"viewBox=\"0 0 24 24\"\n",
              "       width=\"24px\">\n",
              "    <path d=\"M0 0h24v24H0V0z\" fill=\"none\"/>\n",
              "    <path d=\"M18.56 5.44l.94 2.06.94-2.06 2.06-.94-2.06-.94-.94-2.06-.94 2.06-2.06.94zm-11 1L8.5 8.5l.94-2.06 2.06-.94-2.06-.94L8.5 2.5l-.94 2.06-2.06.94zm10 10l.94 2.06.94-2.06 2.06-.94-2.06-.94-.94-2.06-.94 2.06-2.06.94z\"/><path d=\"M17.41 7.96l-1.37-1.37c-.4-.4-.92-.59-1.43-.59-.52 0-1.04.2-1.43.59L10.3 9.45l-7.72 7.72c-.78.78-.78 2.05 0 2.83L4 21.41c.39.39.9.59 1.41.59.51 0 1.02-.2 1.41-.59l7.78-7.78 2.81-2.81c.8-.78.8-2.07 0-2.86zM5.41 20L4 18.59l7.72-7.72 1.47 1.35L5.41 20z\"/>\n",
              "  </svg>\n",
              "      </button>\n",
              "      \n",
              "  <style>\n",
              "    .colab-df-container {\n",
              "      display:flex;\n",
              "      flex-wrap:wrap;\n",
              "      gap: 12px;\n",
              "    }\n",
              "\n",
              "    .colab-df-convert {\n",
              "      background-color: #E8F0FE;\n",
              "      border: none;\n",
              "      border-radius: 50%;\n",
              "      cursor: pointer;\n",
              "      display: none;\n",
              "      fill: #1967D2;\n",
              "      height: 32px;\n",
              "      padding: 0 0 0 0;\n",
              "      width: 32px;\n",
              "    }\n",
              "\n",
              "    .colab-df-convert:hover {\n",
              "      background-color: #E2EBFA;\n",
              "      box-shadow: 0px 1px 2px rgba(60, 64, 67, 0.3), 0px 1px 3px 1px rgba(60, 64, 67, 0.15);\n",
              "      fill: #174EA6;\n",
              "    }\n",
              "\n",
              "    [theme=dark] .colab-df-convert {\n",
              "      background-color: #3B4455;\n",
              "      fill: #D2E3FC;\n",
              "    }\n",
              "\n",
              "    [theme=dark] .colab-df-convert:hover {\n",
              "      background-color: #434B5C;\n",
              "      box-shadow: 0px 1px 3px 1px rgba(0, 0, 0, 0.15);\n",
              "      filter: drop-shadow(0px 1px 2px rgba(0, 0, 0, 0.3));\n",
              "      fill: #FFFFFF;\n",
              "    }\n",
              "  </style>\n",
              "\n",
              "      <script>\n",
              "        const buttonEl =\n",
              "          document.querySelector('#df-68dfc714-1a1b-4fd7-994c-d2db3a64573c button.colab-df-convert');\n",
              "        buttonEl.style.display =\n",
              "          google.colab.kernel.accessAllowed ? 'block' : 'none';\n",
              "\n",
              "        async function convertToInteractive(key) {\n",
              "          const element = document.querySelector('#df-68dfc714-1a1b-4fd7-994c-d2db3a64573c');\n",
              "          const dataTable =\n",
              "            await google.colab.kernel.invokeFunction('convertToInteractive',\n",
              "                                                     [key], {});\n",
              "          if (!dataTable) return;\n",
              "\n",
              "          const docLinkHtml = 'Like what you see? Visit the ' +\n",
              "            '<a target=\"_blank\" href=https://colab.research.google.com/notebooks/data_table.ipynb>data table notebook</a>'\n",
              "            + ' to learn more about interactive tables.';\n",
              "          element.innerHTML = '';\n",
              "          dataTable['output_type'] = 'display_data';\n",
              "          await google.colab.output.renderOutput(dataTable, element);\n",
              "          const docLink = document.createElement('div');\n",
              "          docLink.innerHTML = docLinkHtml;\n",
              "          element.appendChild(docLink);\n",
              "        }\n",
              "      </script>\n",
              "    </div>\n",
              "  </div>\n",
              "  "
            ]
          },
          "metadata": {},
          "execution_count": 37
        }
      ]
    },
    {
      "cell_type": "code",
      "source": [
        "data.Description"
      ],
      "metadata": {
        "colab": {
          "base_uri": "https://localhost:8080/"
        },
        "id": "Z7VLcxw7Nyeh",
        "outputId": "730de7f5-859d-4e33-8a6e-9e0c0d570b94"
      },
      "execution_count": null,
      "outputs": [
        {
          "output_type": "execute_result",
          "data": {
            "text/plain": [
              "0      Hi John, \\n\\nI am observing a fail for followi...\n",
              "1      *Debug info* \\nwhile tracing back we find that...\n",
              "5      *Error::*\\n\\nError: \"/scratch/naverath/sep-27/...\n",
              "7      According to the miscorrelation study [https:/...\n",
              "20     *Error::*\\n\\n\\[COSIM-ERROR]\\[0] COSIM VS RTL V...\n",
              "                             ...                        \n",
              "992    I see incorrect slide of data happening on, vs...\n",
              "993    I see vmv.s.x moving 64 bits of data to the sc...\n",
              "995    The RDU in Mallard has an assertion to check t...\n",
              "996    m running into an assertion, when we are initi...\n",
              "999    The following line is generated in a different...\n",
              "Name: Description, Length: 340, dtype: object"
            ]
          },
          "metadata": {},
          "execution_count": 38
        }
      ]
    },
    {
      "cell_type": "code",
      "source": [
        "data.isnull().sum()"
      ],
      "metadata": {
        "colab": {
          "base_uri": "https://localhost:8080/"
        },
        "id": "_eVxD2JIPF_C",
        "outputId": "15fc0d4e-e4b3-449b-b0b9-6735b8c40f9f"
      },
      "execution_count": null,
      "outputs": [
        {
          "output_type": "execute_result",
          "data": {
            "text/plain": [
              "Summary                    0\n",
              "Issue Type                 0\n",
              "Status                     0\n",
              "Priority                   0\n",
              "Assignee                   0\n",
              "Created                    0\n",
              "Description                1\n",
              "Comment                   45\n",
              "Nicolas Brunie             0\n",
              "John Ingalls               0\n",
              "David Kravitz              0\n",
              "Andrew Hanselman           0\n",
              "Kira Tsao                  0\n",
              "Josh Smith                 0\n",
              "Alexandre Solomatnikov     0\n",
              "Adam George                0\n",
              "Yohann Rabefarihy          0\n",
              "Naveen Rathore             0\n",
              "Date                       0\n",
              "Creatd_Time                0\n",
              "created_day                0\n",
              "created_month              0\n",
              "dtype: int64"
            ]
          },
          "metadata": {},
          "execution_count": 39
        }
      ]
    },
    {
      "cell_type": "code",
      "source": [],
      "metadata": {
        "id": "uKItTmgcPJqC"
      },
      "execution_count": null,
      "outputs": []
    }
  ]
}